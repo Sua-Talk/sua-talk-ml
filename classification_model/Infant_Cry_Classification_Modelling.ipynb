{
  "cells": [
    {
      "cell_type": "markdown",
      "metadata": {
        "id": "fsSCSC9xzHPq"
      },
      "source": [
        "## Load Data"
      ]
    },
    {
      "cell_type": "code",
      "execution_count": 1,
      "metadata": {
        "colab": {
          "base_uri": "https://localhost:8080/"
        },
        "id": "H-eyVrp_zBSe",
        "outputId": "e4742afc-1c35-49d9-94c7-5201e11a6fed"
      },
      "outputs": [
        {
          "name": "stderr",
          "output_type": "stream",
          "text": [
            "Cloning into 'donateacry-corpus'...\n",
            "Updating files:  58% (929/1587)\n",
            "Updating files:  59% (937/1587)\n",
            "Updating files:  60% (953/1587)\n",
            "Updating files:  61% (969/1587)\n",
            "Updating files:  62% (984/1587)\n",
            "Updating files:  63% (1000/1587)\n",
            "Updating files:  64% (1016/1587)\n",
            "Updating files:  65% (1032/1587)\n",
            "Updating files:  66% (1048/1587)\n",
            "Updating files:  67% (1064/1587)\n",
            "Updating files:  68% (1080/1587)\n",
            "Updating files:  69% (1096/1587)\n",
            "Updating files:  70% (1111/1587)\n",
            "Updating files:  71% (1127/1587)\n",
            "Updating files:  72% (1143/1587)\n",
            "Updating files:  73% (1159/1587)\n",
            "Updating files:  74% (1175/1587)\n",
            "Updating files:  75% (1191/1587)\n",
            "Updating files:  76% (1207/1587)\n",
            "Updating files:  77% (1222/1587)\n",
            "Updating files:  78% (1238/1587)\n",
            "Updating files:  79% (1254/1587)\n",
            "Updating files:  80% (1270/1587)\n",
            "Updating files:  81% (1286/1587)\n",
            "Updating files:  82% (1302/1587)\n",
            "Updating files:  83% (1318/1587)\n",
            "Updating files:  84% (1334/1587)\n",
            "Updating files:  85% (1349/1587)\n",
            "Updating files:  86% (1365/1587)\n",
            "Updating files:  87% (1381/1587)\n",
            "Updating files:  88% (1397/1587)\n",
            "Updating files:  89% (1413/1587)\n",
            "Updating files:  89% (1425/1587)\n",
            "Updating files:  90% (1429/1587)\n",
            "Updating files:  91% (1445/1587)\n",
            "Updating files:  92% (1461/1587)\n",
            "Updating files:  93% (1476/1587)\n",
            "Updating files:  94% (1492/1587)\n",
            "Updating files:  95% (1508/1587)\n",
            "Updating files:  96% (1524/1587)\n",
            "Updating files:  97% (1540/1587)\n",
            "Updating files:  98% (1556/1587)\n",
            "Updating files:  99% (1572/1587)\n",
            "Updating files: 100% (1587/1587)\n",
            "Updating files: 100% (1587/1587), done.\n"
          ]
        }
      ],
      "source": [
        "!git clone https://github.com/gveres/donateacry-corpus.git"
      ]
    },
    {
      "cell_type": "code",
      "execution_count": 2,
      "metadata": {
        "id": "hEICqmmMzLYt"
      },
      "outputs": [],
      "source": [
        "# File and system operations\n",
        "import os\n",
        "import random\n",
        "\n",
        "# Audio processing\n",
        "import librosa\n",
        "import librosa.display\n",
        "import soundfile as sf\n",
        "\n",
        "# Numerical and data handling\n",
        "import numpy as np\n",
        "import pandas as pd\n",
        "\n",
        "# Machine learning utilities\n",
        "from sklearn.model_selection import train_test_split\n",
        "from sklearn.preprocessing import LabelEncoder\n",
        "from sklearn.metrics import accuracy_score, classification_report\n",
        "\n",
        "# Deep learning (TensorFlow/Keras)\n",
        "import tensorflow as tf\n",
        "from tensorflow.keras.models import Sequential\n",
        "from tensorflow.keras.layers import Dense, Dropout, BatchNormalization, InputLayer\n",
        "from tensorflow.keras.utils import to_categorical\n",
        "from tensorflow.keras.callbacks import EarlyStopping, ReduceLROnPlateau\n",
        "\n",
        "# Visualization\n",
        "import matplotlib.pyplot as plt\n",
        "from sklearn.metrics import confusion_matrix\n",
        "import seaborn as sns\n",
        "from sklearn.metrics import roc_curve, auc\n",
        "from sklearn.preprocessing import label_binarize\n",
        "\n",
        "os.environ[\"PYTHONHASHSEED\"] = str(42)\n",
        "os.environ[\"TF_DETERMINISTIC_OPS\"] = \"1\"\n",
        "os.environ[\"OMP_NUM_THREADS\"] = \"1\"\n",
        "os.environ[\"TF_NUM_INTRAOP_THREADS\"] = \"1\"\n",
        "os.environ[\"TF_NUM_INTEROP_THREADS\"] = \"1\"\n",
        "\n",
        "np.random.seed(42)\n",
        "random.seed(42)\n",
        "tf.keras.utils.set_random_seed(42)\n",
        "tf.config.experimental.enable_op_determinism()"
      ]
    },
    {
      "cell_type": "code",
      "execution_count": 3,
      "metadata": {
        "colab": {
          "base_uri": "https://localhost:8080/"
        },
        "id": "gEAPomY7zqBS",
        "outputId": "23d235e2-a258-4acd-c54e-eb0380a4dfc6"
      },
      "outputs": [
        {
          "name": "stdout",
          "output_type": "stream",
          "text": [
            "belly_pain: 16 files\n",
            "burping: 8 files\n",
            "discomfort: 27 files\n",
            "hungry: 382 files\n",
            "README.md is a file, not a directory. Deleting...\n",
            "tired: 24 files\n"
          ]
        }
      ],
      "source": [
        "base_path = 'donateacry-corpus/donateacry_corpus_cleaned_and_updated_data'\n",
        "\n",
        "for label in os.listdir(base_path):\n",
        "    path = os.path.join(base_path, label)\n",
        "    if os.path.isdir(path):\n",
        "        num_files = len(os.listdir(path))\n",
        "        print(f\"{label}: {num_files} files\")\n",
        "    else:\n",
        "        print(f\"{label} is a file, not a directory. Deleting...\")\n",
        "        os.remove(path)"
      ]
    },
    {
      "cell_type": "markdown",
      "metadata": {
        "id": "DRdo4QwWz_7G"
      },
      "source": [
        "\"Terlihat bahwa ada imbalanced yang cukup kuat. Label hungry mendominasi sendiri. Maka kita perlu lakukan augmentasi data pada 4 label lainnya.\""
      ]
    },
    {
      "cell_type": "markdown",
      "metadata": {
        "id": "FB8PquAV0CfB"
      },
      "source": [
        "## Data Augmentation"
      ]
    },
    {
      "cell_type": "code",
      "execution_count": 4,
      "metadata": {
        "id": "z8ulk0Koz8BB"
      },
      "outputs": [],
      "source": [
        "SAMPLE_RATE = 16000\n",
        "def load_audio(file_path, sr=SAMPLE_RATE):\n",
        "    \"\"\"Loads an audio file.\"\"\"\n",
        "    audio, sr = librosa.load(file_path, sr=sr)\n",
        "    return audio, sr\n",
        "\n",
        "def save_audio(audio, output_file_path, sr = SAMPLE_RATE):\n",
        "    \"\"\"Saves an audio file.\"\"\"\n",
        "    sf.write(output_file_path, audio, sr)\n",
        "\n",
        "def time_shift(audio,sr, shift_range=(-500, 500)):\n",
        "    \"\"\"Shifts the audio signal in time.\"\"\"\n",
        "    shift = np.random.randint(shift_range[0], shift_range[1])\n",
        "    return np.roll(audio, shift)\n",
        "\n",
        "def time_stretch(audio,sr, rate_range=(0.8, 1.2)):\n",
        "    \"\"\"Stretches or compresses the audio signal without changing pitch.\"\"\"\n",
        "    rate = np.random.uniform(rate_range[0], rate_range[1])\n",
        "    return librosa.effects.time_stretch(audio, rate=rate)\n",
        "\n",
        "def pitch_shift(audio, sr=SAMPLE_RATE, semitones=4):\n",
        "    \"\"\"Changes the pitch of the audio signal.\"\"\"\n",
        "    return librosa.effects.pitch_shift(audio, sr=sr, n_steps=semitones)\n",
        "\n",
        "def add_white_noise(audio,sr, mean=0, variance=0.000025, power=0.005):\n",
        "    \"\"\"Adds white noise to the audio signal.\"\"\"\n",
        "    noise = np.random.normal(mean, np.sqrt(variance), len(audio))\n",
        "    audio_amplitude = np.max(np.abs(audio))\n",
        "    scaled_noise = noise * audio_amplitude * power\n",
        "    return audio + scaled_noise\n",
        "\n",
        "def audio_slice(audio, sr = SAMPLE_RATE, duration=1):\n",
        "    slice_length = int(duration * sr)\n",
        "    if len(audio) <= slice_length:\n",
        "        return librosa.util.fix_length(audio, size=slice_length)\n",
        "    start = random.randint(0, len(audio) - slice_length)\n",
        "    return audio[start:start + slice_length]"
      ]
    },
    {
      "cell_type": "code",
      "execution_count": 5,
      "metadata": {
        "id": "j09NXpzF0W-0"
      },
      "outputs": [],
      "source": [
        "AUGMENTATION_FUNCTIONS = [\n",
        "    (time_shift, \"shift\"),\n",
        "    (time_stretch, \"stretch\"),\n",
        "    (pitch_shift, \"pitch\"),\n",
        "    (add_white_noise, \"noise\"),\n",
        "    (audio_slice, \"slice\")\n",
        "]"
      ]
    },
    {
      "cell_type": "code",
      "execution_count": 6,
      "metadata": {
        "id": "ncrXPzpX0XgC"
      },
      "outputs": [],
      "source": [
        "def augment_data(data_path, output_dir, p):\n",
        "    audio, sr = load_audio(data_path)\n",
        "    base_filename = os.path.splitext(os.path.basename(data_path))[0]\n",
        "\n",
        "    for i in range(p):\n",
        "        aug_func, aug_name = random.choice(AUGMENTATION_FUNCTIONS)\n",
        "        augmented_audio = aug_func(audio, sr)\n",
        "\n",
        "        output_filename = f\"{base_filename}_{aug_name}_{i+1}.wav\"\n",
        "        output_file_path = os.path.join(output_dir, output_filename)\n",
        "\n",
        "        save_audio(augmented_audio, sr=16000, output_file_path=output_file_path)"
      ]
    },
    {
      "cell_type": "code",
      "execution_count": 7,
      "metadata": {
        "id": "jIv2KUtK0dCN"
      },
      "outputs": [],
      "source": [
        "for label in os.listdir(base_path):\n",
        "  path = os.path.join(base_path, label)\n",
        "  if os.path.isdir(path):\n",
        "    label_path = path\n",
        "    if label!='hungry':\n",
        "      for file in os.listdir(path):\n",
        "        file_path=os.path.join(label_path, file)\n",
        "        augment_data(file_path, label_path, 17)"
      ]
    },
    {
      "cell_type": "code",
      "execution_count": 8,
      "metadata": {
        "colab": {
          "base_uri": "https://localhost:8080/"
        },
        "id": "uoKslok40hyK",
        "outputId": "5150c9af-2596-4c1a-ab1c-63ccdacfe437"
      },
      "outputs": [
        {
          "name": "stdout",
          "output_type": "stream",
          "text": [
            "belly_pain: 288 files\n",
            "burping: 144 files\n",
            "discomfort: 486 files\n",
            "hungry: 382 files\n",
            "tired: 432 files\n"
          ]
        }
      ],
      "source": [
        "base_path = 'donateacry-corpus/donateacry_corpus_cleaned_and_updated_data'\n",
        "\n",
        "for label in os.listdir(base_path):\n",
        "    path = os.path.join(base_path, label)\n",
        "    if os.path.isdir(path):\n",
        "        num_files = len(os.listdir(path))\n",
        "        print(f\"{label}: {num_files} files\")\n",
        "    else:\n",
        "        print(f\"{label} is a file, not a directory\")"
      ]
    },
    {
      "cell_type": "markdown",
      "metadata": {
        "id": "VBJRr6IE09zo"
      },
      "source": [
        "## Data Resizing"
      ]
    },
    {
      "cell_type": "code",
      "execution_count": 9,
      "metadata": {
        "id": "Z9ZtjJPx0x6h"
      },
      "outputs": [],
      "source": [
        "def trim_or_pad(audio, sr, target_duration=6.0):\n",
        "    target_length = int(sr * target_duration)\n",
        "    if len(audio) > target_length:\n",
        "        start = (len(audio) - target_length) // 2\n",
        "        audio = audio[start:start + target_length]\n",
        "    elif len(audio) < target_length:\n",
        "        pad_length = target_length - len(audio)\n",
        "        pad_left = pad_length // 2\n",
        "        pad_right = pad_length - pad_left\n",
        "        audio = np.pad(audio, (pad_left, pad_right), mode='constant')\n",
        "    return audio"
      ]
    },
    {
      "cell_type": "code",
      "execution_count": 10,
      "metadata": {
        "id": "ZuDgRTa108XL"
      },
      "outputs": [],
      "source": [
        "for label in os.listdir(base_path):\n",
        "    path = os.path.join(base_path, label)\n",
        "    if os.path.isdir(path):\n",
        "        for file in os.listdir(path):\n",
        "            file_path = os.path.join(path, file)\n",
        "            audio, sr = load_audio(file_path)\n",
        "            processed_audio = trim_or_pad(audio, sr=16000, target_duration=6.0)\n",
        "            save_audio(processed_audio, sr=16000, output_file_path=file_path)"
      ]
    },
    {
      "cell_type": "markdown",
      "metadata": {
        "id": "TCr6DIdv1mOS"
      },
      "source": [
        "## Feature Extraction"
      ]
    },
    {
      "cell_type": "code",
      "execution_count": 11,
      "metadata": {
        "id": "PFdHgcBLiJBE"
      },
      "outputs": [],
      "source": [
        "n_mfcc = 13\n",
        "n_fft = 1024\n",
        "hop_length = 10*16\n",
        "win_length = 25*16\n",
        "window = 'hann'\n",
        "n_chroma=12\n",
        "n_mels=128\n",
        "n_bands=7\n",
        "fmin=100\n",
        "bins_per_ocatve=12"
      ]
    },
    {
      "cell_type": "code",
      "execution_count": 12,
      "metadata": {
        "colab": {
          "base_uri": "https://localhost:8080/"
        },
        "id": "u7rHHRDw1ovM",
        "outputId": "e107b288-7507-4768-8400-c40ab57c1cd1"
      },
      "outputs": [
        {
          "name": "stdout",
          "output_type": "stream",
          "text": [
            "belly_pain data is loading.....\n",
            "belly_pain data loaded....\n",
            "burping data is loading.....\n",
            "burping data loaded....\n",
            "discomfort data is loading.....\n",
            "discomfort data loaded....\n",
            "hungry data is loading.....\n",
            "hungry data loaded....\n",
            "tired data is loading.....\n",
            "tired data loaded....\n"
          ]
        }
      ],
      "source": [
        "def extract_features(file_path):\n",
        "    try:\n",
        "        y, sr = librosa.load(file_path, sr=16000)\n",
        "        mfcc = np.mean(librosa.feature.mfcc(y=y, sr=sr, n_mfcc=13,n_fft=n_fft,hop_length=hop_length,win_length=win_length,window=window).T,axis=0)\n",
        "        mel = np.mean(librosa.feature.melspectrogram(y=y, sr=sr,n_fft=n_fft, hop_length=hop_length, win_length=win_length, window='hann',n_mels=n_mels).T,axis=0)\n",
        "        stft = np.abs(librosa.stft(y))\n",
        "        chroma = np.mean(librosa.feature.chroma_stft(S=stft, y=y, sr=sr).T,axis=0)\n",
        "        contrast = np.mean(librosa.feature.spectral_contrast(S=stft, y=y, sr=sr,n_fft=n_fft,\n",
        "                                                      hop_length=hop_length, win_length=win_length,\n",
        "                                                      n_bands=n_bands, fmin=fmin).T,axis=0)\n",
        "        tonnetz =np.mean(librosa.feature.tonnetz(y=y, sr=sr).T,axis=0)\n",
        "        features = np.concatenate((mfcc, chroma, mel, contrast, tonnetz))\n",
        "        # print(shape(features))\n",
        "        return features\n",
        "    except:\n",
        "        print(\"Error: Exception occurred in feature extraction\")\n",
        "        return None\n",
        "\n",
        "path = 'donateacry-corpus/donateacry_corpus_cleaned_and_updated_data'\n",
        "features = []\n",
        "labels = []\n",
        "\n",
        "for label in os.listdir(path):\n",
        "    label_path = os.path.join(path, label)\n",
        "    if os.path.isdir(label_path):\n",
        "        print(f\"{label} data is loading.....\")\n",
        "        for file_name in os.listdir(label_path):\n",
        "            file_path = os.path.join(label_path, file_name)\n",
        "            feature = extract_features(file_path)\n",
        "            if feature is not None:\n",
        "                features.append(feature)\n",
        "                labels.append(label)\n",
        "        print(f\"{label} data loaded....\")"
      ]
    },
    {
      "cell_type": "markdown",
      "metadata": {
        "id": "C2t56oo35GDo"
      },
      "source": [
        "## Modelling"
      ]
    },
    {
      "cell_type": "code",
      "execution_count": 13,
      "metadata": {
        "id": "1R1U82ej4o7u"
      },
      "outputs": [],
      "source": [
        "features = np.array(features)\n",
        "labels = np.array(labels)\n",
        "\n",
        "le = LabelEncoder()\n",
        "labels = le.fit_transform(labels)\n",
        "labels = to_categorical(labels, num_classes=5)\n",
        "\n",
        "X_train, X_test, y_train, y_test = train_test_split(\n",
        "    features, labels, test_size=0.1, random_state=42, stratify=labels)"
      ]
    },
    {
      "cell_type": "code",
      "execution_count": 14,
      "metadata": {
        "id": "JNJEZLOH5J0N"
      },
      "outputs": [],
      "source": [
        "input_shape=(X_train.shape[1],)\n",
        "num_classes=5"
      ]
    },
    {
      "cell_type": "code",
      "execution_count": 15,
      "metadata": {
        "colab": {
          "base_uri": "https://localhost:8080/",
          "height": 737
        },
        "id": "X5QO23VU422t",
        "outputId": "592a31b6-c2d5-4cc9-992e-7bc9ce8b3885"
      },
      "outputs": [
        {
          "data": {
            "text/html": [
              "<pre style=\"white-space:pre;overflow-x:auto;line-height:normal;font-family:Menlo,'DejaVu Sans Mono',consolas,'Courier New',monospace\"><span style=\"font-weight: bold\">Model: \"sequential\"</span>\n",
              "</pre>\n"
            ],
            "text/plain": [
              "\u001b[1mModel: \"sequential\"\u001b[0m\n"
            ]
          },
          "metadata": {},
          "output_type": "display_data"
        },
        {
          "data": {
            "text/html": [
              "<pre style=\"white-space:pre;overflow-x:auto;line-height:normal;font-family:Menlo,'DejaVu Sans Mono',consolas,'Courier New',monospace\">┏━━━━━━━━━━━━━━━━━━━━━━━━━━━━━━━━━┳━━━━━━━━━━━━━━━━━━━━━━━━┳━━━━━━━━━━━━━━━┓\n",
              "┃<span style=\"font-weight: bold\"> Layer (type)                    </span>┃<span style=\"font-weight: bold\"> Output Shape           </span>┃<span style=\"font-weight: bold\">       Param # </span>┃\n",
              "┡━━━━━━━━━━━━━━━━━━━━━━━━━━━━━━━━━╇━━━━━━━━━━━━━━━━━━━━━━━━╇━━━━━━━━━━━━━━━┩\n",
              "│ dense (<span style=\"color: #0087ff; text-decoration-color: #0087ff\">Dense</span>)                   │ (<span style=\"color: #00d7ff; text-decoration-color: #00d7ff\">None</span>, <span style=\"color: #00af00; text-decoration-color: #00af00\">1024</span>)           │       <span style=\"color: #00af00; text-decoration-color: #00af00\">172,032</span> │\n",
              "├─────────────────────────────────┼────────────────────────┼───────────────┤\n",
              "│ batch_normalization             │ (<span style=\"color: #00d7ff; text-decoration-color: #00d7ff\">None</span>, <span style=\"color: #00af00; text-decoration-color: #00af00\">1024</span>)           │         <span style=\"color: #00af00; text-decoration-color: #00af00\">4,096</span> │\n",
              "│ (<span style=\"color: #0087ff; text-decoration-color: #0087ff\">BatchNormalization</span>)            │                        │               │\n",
              "├─────────────────────────────────┼────────────────────────┼───────────────┤\n",
              "│ dropout (<span style=\"color: #0087ff; text-decoration-color: #0087ff\">Dropout</span>)               │ (<span style=\"color: #00d7ff; text-decoration-color: #00d7ff\">None</span>, <span style=\"color: #00af00; text-decoration-color: #00af00\">1024</span>)           │             <span style=\"color: #00af00; text-decoration-color: #00af00\">0</span> │\n",
              "├─────────────────────────────────┼────────────────────────┼───────────────┤\n",
              "│ dense_1 (<span style=\"color: #0087ff; text-decoration-color: #0087ff\">Dense</span>)                 │ (<span style=\"color: #00d7ff; text-decoration-color: #00d7ff\">None</span>, <span style=\"color: #00af00; text-decoration-color: #00af00\">512</span>)            │       <span style=\"color: #00af00; text-decoration-color: #00af00\">524,800</span> │\n",
              "├─────────────────────────────────┼────────────────────────┼───────────────┤\n",
              "│ batch_normalization_1           │ (<span style=\"color: #00d7ff; text-decoration-color: #00d7ff\">None</span>, <span style=\"color: #00af00; text-decoration-color: #00af00\">512</span>)            │         <span style=\"color: #00af00; text-decoration-color: #00af00\">2,048</span> │\n",
              "│ (<span style=\"color: #0087ff; text-decoration-color: #0087ff\">BatchNormalization</span>)            │                        │               │\n",
              "├─────────────────────────────────┼────────────────────────┼───────────────┤\n",
              "│ dropout_1 (<span style=\"color: #0087ff; text-decoration-color: #0087ff\">Dropout</span>)             │ (<span style=\"color: #00d7ff; text-decoration-color: #00d7ff\">None</span>, <span style=\"color: #00af00; text-decoration-color: #00af00\">512</span>)            │             <span style=\"color: #00af00; text-decoration-color: #00af00\">0</span> │\n",
              "├─────────────────────────────────┼────────────────────────┼───────────────┤\n",
              "│ dense_2 (<span style=\"color: #0087ff; text-decoration-color: #0087ff\">Dense</span>)                 │ (<span style=\"color: #00d7ff; text-decoration-color: #00d7ff\">None</span>, <span style=\"color: #00af00; text-decoration-color: #00af00\">256</span>)            │       <span style=\"color: #00af00; text-decoration-color: #00af00\">131,328</span> │\n",
              "├─────────────────────────────────┼────────────────────────┼───────────────┤\n",
              "│ batch_normalization_2           │ (<span style=\"color: #00d7ff; text-decoration-color: #00d7ff\">None</span>, <span style=\"color: #00af00; text-decoration-color: #00af00\">256</span>)            │         <span style=\"color: #00af00; text-decoration-color: #00af00\">1,024</span> │\n",
              "│ (<span style=\"color: #0087ff; text-decoration-color: #0087ff\">BatchNormalization</span>)            │                        │               │\n",
              "├─────────────────────────────────┼────────────────────────┼───────────────┤\n",
              "│ dropout_2 (<span style=\"color: #0087ff; text-decoration-color: #0087ff\">Dropout</span>)             │ (<span style=\"color: #00d7ff; text-decoration-color: #00d7ff\">None</span>, <span style=\"color: #00af00; text-decoration-color: #00af00\">256</span>)            │             <span style=\"color: #00af00; text-decoration-color: #00af00\">0</span> │\n",
              "├─────────────────────────────────┼────────────────────────┼───────────────┤\n",
              "│ dense_3 (<span style=\"color: #0087ff; text-decoration-color: #0087ff\">Dense</span>)                 │ (<span style=\"color: #00d7ff; text-decoration-color: #00d7ff\">None</span>, <span style=\"color: #00af00; text-decoration-color: #00af00\">128</span>)            │        <span style=\"color: #00af00; text-decoration-color: #00af00\">32,896</span> │\n",
              "├─────────────────────────────────┼────────────────────────┼───────────────┤\n",
              "│ batch_normalization_3           │ (<span style=\"color: #00d7ff; text-decoration-color: #00d7ff\">None</span>, <span style=\"color: #00af00; text-decoration-color: #00af00\">128</span>)            │           <span style=\"color: #00af00; text-decoration-color: #00af00\">512</span> │\n",
              "│ (<span style=\"color: #0087ff; text-decoration-color: #0087ff\">BatchNormalization</span>)            │                        │               │\n",
              "├─────────────────────────────────┼────────────────────────┼───────────────┤\n",
              "│ dropout_3 (<span style=\"color: #0087ff; text-decoration-color: #0087ff\">Dropout</span>)             │ (<span style=\"color: #00d7ff; text-decoration-color: #00d7ff\">None</span>, <span style=\"color: #00af00; text-decoration-color: #00af00\">128</span>)            │             <span style=\"color: #00af00; text-decoration-color: #00af00\">0</span> │\n",
              "├─────────────────────────────────┼────────────────────────┼───────────────┤\n",
              "│ dense_4 (<span style=\"color: #0087ff; text-decoration-color: #0087ff\">Dense</span>)                 │ (<span style=\"color: #00d7ff; text-decoration-color: #00d7ff\">None</span>, <span style=\"color: #00af00; text-decoration-color: #00af00\">64</span>)             │         <span style=\"color: #00af00; text-decoration-color: #00af00\">8,256</span> │\n",
              "├─────────────────────────────────┼────────────────────────┼───────────────┤\n",
              "│ batch_normalization_4           │ (<span style=\"color: #00d7ff; text-decoration-color: #00d7ff\">None</span>, <span style=\"color: #00af00; text-decoration-color: #00af00\">64</span>)             │           <span style=\"color: #00af00; text-decoration-color: #00af00\">256</span> │\n",
              "│ (<span style=\"color: #0087ff; text-decoration-color: #0087ff\">BatchNormalization</span>)            │                        │               │\n",
              "├─────────────────────────────────┼────────────────────────┼───────────────┤\n",
              "│ dropout_4 (<span style=\"color: #0087ff; text-decoration-color: #0087ff\">Dropout</span>)             │ (<span style=\"color: #00d7ff; text-decoration-color: #00d7ff\">None</span>, <span style=\"color: #00af00; text-decoration-color: #00af00\">64</span>)             │             <span style=\"color: #00af00; text-decoration-color: #00af00\">0</span> │\n",
              "├─────────────────────────────────┼────────────────────────┼───────────────┤\n",
              "│ dense_5 (<span style=\"color: #0087ff; text-decoration-color: #0087ff\">Dense</span>)                 │ (<span style=\"color: #00d7ff; text-decoration-color: #00d7ff\">None</span>, <span style=\"color: #00af00; text-decoration-color: #00af00\">5</span>)              │           <span style=\"color: #00af00; text-decoration-color: #00af00\">325</span> │\n",
              "└─────────────────────────────────┴────────────────────────┴───────────────┘\n",
              "</pre>\n"
            ],
            "text/plain": [
              "┏━━━━━━━━━━━━━━━━━━━━━━━━━━━━━━━━━┳━━━━━━━━━━━━━━━━━━━━━━━━┳━━━━━━━━━━━━━━━┓\n",
              "┃\u001b[1m \u001b[0m\u001b[1mLayer (type)                   \u001b[0m\u001b[1m \u001b[0m┃\u001b[1m \u001b[0m\u001b[1mOutput Shape          \u001b[0m\u001b[1m \u001b[0m┃\u001b[1m \u001b[0m\u001b[1m      Param #\u001b[0m\u001b[1m \u001b[0m┃\n",
              "┡━━━━━━━━━━━━━━━━━━━━━━━━━━━━━━━━━╇━━━━━━━━━━━━━━━━━━━━━━━━╇━━━━━━━━━━━━━━━┩\n",
              "│ dense (\u001b[38;5;33mDense\u001b[0m)                   │ (\u001b[38;5;45mNone\u001b[0m, \u001b[38;5;34m1024\u001b[0m)           │       \u001b[38;5;34m172,032\u001b[0m │\n",
              "├─────────────────────────────────┼────────────────────────┼───────────────┤\n",
              "│ batch_normalization             │ (\u001b[38;5;45mNone\u001b[0m, \u001b[38;5;34m1024\u001b[0m)           │         \u001b[38;5;34m4,096\u001b[0m │\n",
              "│ (\u001b[38;5;33mBatchNormalization\u001b[0m)            │                        │               │\n",
              "├─────────────────────────────────┼────────────────────────┼───────────────┤\n",
              "│ dropout (\u001b[38;5;33mDropout\u001b[0m)               │ (\u001b[38;5;45mNone\u001b[0m, \u001b[38;5;34m1024\u001b[0m)           │             \u001b[38;5;34m0\u001b[0m │\n",
              "├─────────────────────────────────┼────────────────────────┼───────────────┤\n",
              "│ dense_1 (\u001b[38;5;33mDense\u001b[0m)                 │ (\u001b[38;5;45mNone\u001b[0m, \u001b[38;5;34m512\u001b[0m)            │       \u001b[38;5;34m524,800\u001b[0m │\n",
              "├─────────────────────────────────┼────────────────────────┼───────────────┤\n",
              "│ batch_normalization_1           │ (\u001b[38;5;45mNone\u001b[0m, \u001b[38;5;34m512\u001b[0m)            │         \u001b[38;5;34m2,048\u001b[0m │\n",
              "│ (\u001b[38;5;33mBatchNormalization\u001b[0m)            │                        │               │\n",
              "├─────────────────────────────────┼────────────────────────┼───────────────┤\n",
              "│ dropout_1 (\u001b[38;5;33mDropout\u001b[0m)             │ (\u001b[38;5;45mNone\u001b[0m, \u001b[38;5;34m512\u001b[0m)            │             \u001b[38;5;34m0\u001b[0m │\n",
              "├─────────────────────────────────┼────────────────────────┼───────────────┤\n",
              "│ dense_2 (\u001b[38;5;33mDense\u001b[0m)                 │ (\u001b[38;5;45mNone\u001b[0m, \u001b[38;5;34m256\u001b[0m)            │       \u001b[38;5;34m131,328\u001b[0m │\n",
              "├─────────────────────────────────┼────────────────────────┼───────────────┤\n",
              "│ batch_normalization_2           │ (\u001b[38;5;45mNone\u001b[0m, \u001b[38;5;34m256\u001b[0m)            │         \u001b[38;5;34m1,024\u001b[0m │\n",
              "│ (\u001b[38;5;33mBatchNormalization\u001b[0m)            │                        │               │\n",
              "├─────────────────────────────────┼────────────────────────┼───────────────┤\n",
              "│ dropout_2 (\u001b[38;5;33mDropout\u001b[0m)             │ (\u001b[38;5;45mNone\u001b[0m, \u001b[38;5;34m256\u001b[0m)            │             \u001b[38;5;34m0\u001b[0m │\n",
              "├─────────────────────────────────┼────────────────────────┼───────────────┤\n",
              "│ dense_3 (\u001b[38;5;33mDense\u001b[0m)                 │ (\u001b[38;5;45mNone\u001b[0m, \u001b[38;5;34m128\u001b[0m)            │        \u001b[38;5;34m32,896\u001b[0m │\n",
              "├─────────────────────────────────┼────────────────────────┼───────────────┤\n",
              "│ batch_normalization_3           │ (\u001b[38;5;45mNone\u001b[0m, \u001b[38;5;34m128\u001b[0m)            │           \u001b[38;5;34m512\u001b[0m │\n",
              "│ (\u001b[38;5;33mBatchNormalization\u001b[0m)            │                        │               │\n",
              "├─────────────────────────────────┼────────────────────────┼───────────────┤\n",
              "│ dropout_3 (\u001b[38;5;33mDropout\u001b[0m)             │ (\u001b[38;5;45mNone\u001b[0m, \u001b[38;5;34m128\u001b[0m)            │             \u001b[38;5;34m0\u001b[0m │\n",
              "├─────────────────────────────────┼────────────────────────┼───────────────┤\n",
              "│ dense_4 (\u001b[38;5;33mDense\u001b[0m)                 │ (\u001b[38;5;45mNone\u001b[0m, \u001b[38;5;34m64\u001b[0m)             │         \u001b[38;5;34m8,256\u001b[0m │\n",
              "├─────────────────────────────────┼────────────────────────┼───────────────┤\n",
              "│ batch_normalization_4           │ (\u001b[38;5;45mNone\u001b[0m, \u001b[38;5;34m64\u001b[0m)             │           \u001b[38;5;34m256\u001b[0m │\n",
              "│ (\u001b[38;5;33mBatchNormalization\u001b[0m)            │                        │               │\n",
              "├─────────────────────────────────┼────────────────────────┼───────────────┤\n",
              "│ dropout_4 (\u001b[38;5;33mDropout\u001b[0m)             │ (\u001b[38;5;45mNone\u001b[0m, \u001b[38;5;34m64\u001b[0m)             │             \u001b[38;5;34m0\u001b[0m │\n",
              "├─────────────────────────────────┼────────────────────────┼───────────────┤\n",
              "│ dense_5 (\u001b[38;5;33mDense\u001b[0m)                 │ (\u001b[38;5;45mNone\u001b[0m, \u001b[38;5;34m5\u001b[0m)              │           \u001b[38;5;34m325\u001b[0m │\n",
              "└─────────────────────────────────┴────────────────────────┴───────────────┘\n"
            ]
          },
          "metadata": {},
          "output_type": "display_data"
        },
        {
          "data": {
            "text/html": [
              "<pre style=\"white-space:pre;overflow-x:auto;line-height:normal;font-family:Menlo,'DejaVu Sans Mono',consolas,'Courier New',monospace\"><span style=\"font-weight: bold\"> Total params: </span><span style=\"color: #00af00; text-decoration-color: #00af00\">877,573</span> (3.35 MB)\n",
              "</pre>\n"
            ],
            "text/plain": [
              "\u001b[1m Total params: \u001b[0m\u001b[38;5;34m877,573\u001b[0m (3.35 MB)\n"
            ]
          },
          "metadata": {},
          "output_type": "display_data"
        },
        {
          "data": {
            "text/html": [
              "<pre style=\"white-space:pre;overflow-x:auto;line-height:normal;font-family:Menlo,'DejaVu Sans Mono',consolas,'Courier New',monospace\"><span style=\"font-weight: bold\"> Trainable params: </span><span style=\"color: #00af00; text-decoration-color: #00af00\">873,605</span> (3.33 MB)\n",
              "</pre>\n"
            ],
            "text/plain": [
              "\u001b[1m Trainable params: \u001b[0m\u001b[38;5;34m873,605\u001b[0m (3.33 MB)\n"
            ]
          },
          "metadata": {},
          "output_type": "display_data"
        },
        {
          "data": {
            "text/html": [
              "<pre style=\"white-space:pre;overflow-x:auto;line-height:normal;font-family:Menlo,'DejaVu Sans Mono',consolas,'Courier New',monospace\"><span style=\"font-weight: bold\"> Non-trainable params: </span><span style=\"color: #00af00; text-decoration-color: #00af00\">3,968</span> (15.50 KB)\n",
              "</pre>\n"
            ],
            "text/plain": [
              "\u001b[1m Non-trainable params: \u001b[0m\u001b[38;5;34m3,968\u001b[0m (15.50 KB)\n"
            ]
          },
          "metadata": {},
          "output_type": "display_data"
        }
      ],
      "source": [
        "model_ANN = Sequential([\n",
        "    InputLayer(shape=input_shape),\n",
        "\n",
        "    Dense(1024, activation='relu'),\n",
        "    BatchNormalization(),\n",
        "    Dropout(0.5),\n",
        "\n",
        "    Dense(512, activation='relu'),\n",
        "    BatchNormalization(),\n",
        "    Dropout(0.5),\n",
        "\n",
        "    Dense(256, activation='relu'),\n",
        "    BatchNormalization(),\n",
        "    Dropout(0.5),\n",
        "\n",
        "    Dense(128, activation='relu'),\n",
        "    BatchNormalization(),\n",
        "    Dropout(0.5),\n",
        "\n",
        "    Dense(64, activation='relu'),\n",
        "    BatchNormalization(),\n",
        "    Dropout(0.5),\n",
        "\n",
        "    Dense(num_classes, activation='softmax')\n",
        "])\n",
        "\n",
        "callbacks = [\n",
        "    EarlyStopping(\n",
        "        monitor='val_loss',\n",
        "        patience=20,\n",
        "        restore_best_weights=True,\n",
        "        verbose=1\n",
        "    ),\n",
        "    # ReduceLROnPlateau(\n",
        "    #     monitor='val_loss',\n",
        "    #     factor=0.5,\n",
        "    #     patience=5,\n",
        "    #     min_lr=1e-6,\n",
        "    #     verbose=1\n",
        "    # )\n",
        "]\n",
        "\n",
        "\n",
        "model_ANN.compile(optimizer='adam',\n",
        "              loss='categorical_crossentropy',\n",
        "              metrics=['accuracy'])\n",
        "\n",
        "model_ANN.summary()"
      ]
    },
    {
      "cell_type": "code",
      "execution_count": 16,
      "metadata": {
        "colab": {
          "base_uri": "https://localhost:8080/"
        },
        "id": "UJfdfX0c6T2J",
        "outputId": "ad9c4fee-9866-4980-cab2-1fd4c443c31b"
      },
      "outputs": [
        {
          "name": "stdout",
          "output_type": "stream",
          "text": [
            "Epoch 1/300\n",
            "\u001b[1m44/44\u001b[0m \u001b[32m━━━━━━━━━━━━━━━━━━━━\u001b[0m\u001b[37m\u001b[0m \u001b[1m4s\u001b[0m 17ms/step - accuracy: 0.2198 - loss: 2.7161 - val_accuracy: 0.0833 - val_loss: 3.0274\n",
            "Epoch 2/300\n",
            "\u001b[1m44/44\u001b[0m \u001b[32m━━━━━━━━━━━━━━━━━━━━\u001b[0m\u001b[37m\u001b[0m \u001b[1m0s\u001b[0m 11ms/step - accuracy: 0.2697 - loss: 2.1781 - val_accuracy: 0.2949 - val_loss: 2.0022\n",
            "Epoch 3/300\n",
            "\u001b[1m44/44\u001b[0m \u001b[32m━━━━━━━━━━━━━━━━━━━━\u001b[0m\u001b[37m\u001b[0m \u001b[1m0s\u001b[0m 10ms/step - accuracy: 0.2962 - loss: 2.0469 - val_accuracy: 0.3269 - val_loss: 1.7844\n",
            "Epoch 4/300\n",
            "\u001b[1m44/44\u001b[0m \u001b[32m━━━━━━━━━━━━━━━━━━━━\u001b[0m\u001b[37m\u001b[0m \u001b[1m0s\u001b[0m 10ms/step - accuracy: 0.3090 - loss: 1.8992 - val_accuracy: 0.2885 - val_loss: 1.4961\n",
            "Epoch 5/300\n",
            "\u001b[1m44/44\u001b[0m \u001b[32m━━━━━━━━━━━━━━━━━━━━\u001b[0m\u001b[37m\u001b[0m \u001b[1m0s\u001b[0m 10ms/step - accuracy: 0.3117 - loss: 1.7125 - val_accuracy: 0.3718 - val_loss: 1.3032\n",
            "Epoch 6/300\n",
            "\u001b[1m44/44\u001b[0m \u001b[32m━━━━━━━━━━━━━━━━━━━━\u001b[0m\u001b[37m\u001b[0m \u001b[1m0s\u001b[0m 10ms/step - accuracy: 0.3341 - loss: 1.7034 - val_accuracy: 0.4231 - val_loss: 1.2517\n",
            "Epoch 7/300\n",
            "\u001b[1m44/44\u001b[0m \u001b[32m━━━━━━━━━━━━━━━━━━━━\u001b[0m\u001b[37m\u001b[0m \u001b[1m1s\u001b[0m 11ms/step - accuracy: 0.3181 - loss: 1.6690 - val_accuracy: 0.4744 - val_loss: 1.1783\n",
            "Epoch 8/300\n",
            "\u001b[1m44/44\u001b[0m \u001b[32m━━━━━━━━━━━━━━━━━━━━\u001b[0m\u001b[37m\u001b[0m \u001b[1m0s\u001b[0m 10ms/step - accuracy: 0.3773 - loss: 1.5533 - val_accuracy: 0.5641 - val_loss: 1.1183\n",
            "Epoch 9/300\n",
            "\u001b[1m44/44\u001b[0m \u001b[32m━━━━━━━━━━━━━━━━━━━━\u001b[0m\u001b[37m\u001b[0m \u001b[1m0s\u001b[0m 10ms/step - accuracy: 0.4050 - loss: 1.4721 - val_accuracy: 0.5769 - val_loss: 1.1090\n",
            "Epoch 10/300\n",
            "\u001b[1m44/44\u001b[0m \u001b[32m━━━━━━━━━━━━━━━━━━━━\u001b[0m\u001b[37m\u001b[0m \u001b[1m0s\u001b[0m 10ms/step - accuracy: 0.4185 - loss: 1.3954 - val_accuracy: 0.5705 - val_loss: 1.0742\n",
            "Epoch 11/300\n",
            "\u001b[1m44/44\u001b[0m \u001b[32m━━━━━━━━━━━━━━━━━━━━\u001b[0m\u001b[37m\u001b[0m \u001b[1m0s\u001b[0m 10ms/step - accuracy: 0.4125 - loss: 1.3611 - val_accuracy: 0.5513 - val_loss: 1.0794\n",
            "Epoch 12/300\n",
            "\u001b[1m44/44\u001b[0m \u001b[32m━━━━━━━━━━━━━━━━━━━━\u001b[0m\u001b[37m\u001b[0m \u001b[1m0s\u001b[0m 10ms/step - accuracy: 0.4152 - loss: 1.3840 - val_accuracy: 0.5577 - val_loss: 1.0470\n",
            "Epoch 13/300\n",
            "\u001b[1m44/44\u001b[0m \u001b[32m━━━━━━━━━━━━━━━━━━━━\u001b[0m\u001b[37m\u001b[0m \u001b[1m0s\u001b[0m 10ms/step - accuracy: 0.4195 - loss: 1.3245 - val_accuracy: 0.5962 - val_loss: 1.0337\n",
            "Epoch 14/300\n",
            "\u001b[1m44/44\u001b[0m \u001b[32m━━━━━━━━━━━━━━━━━━━━\u001b[0m\u001b[37m\u001b[0m \u001b[1m0s\u001b[0m 10ms/step - accuracy: 0.4356 - loss: 1.2811 - val_accuracy: 0.5833 - val_loss: 1.0374\n",
            "Epoch 15/300\n",
            "\u001b[1m44/44\u001b[0m \u001b[32m━━━━━━━━━━━━━━━━━━━━\u001b[0m\u001b[37m\u001b[0m \u001b[1m0s\u001b[0m 10ms/step - accuracy: 0.4273 - loss: 1.2766 - val_accuracy: 0.5577 - val_loss: 1.0279\n",
            "Epoch 16/300\n",
            "\u001b[1m44/44\u001b[0m \u001b[32m━━━━━━━━━━━━━━━━━━━━\u001b[0m\u001b[37m\u001b[0m \u001b[1m0s\u001b[0m 10ms/step - accuracy: 0.4303 - loss: 1.2820 - val_accuracy: 0.5705 - val_loss: 1.0216\n",
            "Epoch 17/300\n",
            "\u001b[1m44/44\u001b[0m \u001b[32m━━━━━━━━━━━━━━━━━━━━\u001b[0m\u001b[37m\u001b[0m \u001b[1m0s\u001b[0m 10ms/step - accuracy: 0.4642 - loss: 1.2679 - val_accuracy: 0.5897 - val_loss: 1.0053\n",
            "Epoch 18/300\n",
            "\u001b[1m44/44\u001b[0m \u001b[32m━━━━━━━━━━━━━━━━━━━━\u001b[0m\u001b[37m\u001b[0m \u001b[1m0s\u001b[0m 10ms/step - accuracy: 0.4578 - loss: 1.2333 - val_accuracy: 0.5577 - val_loss: 1.0172\n",
            "Epoch 19/300\n",
            "\u001b[1m44/44\u001b[0m \u001b[32m━━━━━━━━━━━━━━━━━━━━\u001b[0m\u001b[37m\u001b[0m \u001b[1m0s\u001b[0m 10ms/step - accuracy: 0.4910 - loss: 1.1628 - val_accuracy: 0.5833 - val_loss: 1.0132\n",
            "Epoch 20/300\n",
            "\u001b[1m44/44\u001b[0m \u001b[32m━━━━━━━━━━━━━━━━━━━━\u001b[0m\u001b[37m\u001b[0m \u001b[1m0s\u001b[0m 10ms/step - accuracy: 0.5097 - loss: 1.1809 - val_accuracy: 0.5513 - val_loss: 1.0158\n",
            "Epoch 21/300\n",
            "\u001b[1m44/44\u001b[0m \u001b[32m━━━━━━━━━━━━━━━━━━━━\u001b[0m\u001b[37m\u001b[0m \u001b[1m0s\u001b[0m 10ms/step - accuracy: 0.5139 - loss: 1.1477 - val_accuracy: 0.5385 - val_loss: 1.0189\n",
            "Epoch 22/300\n",
            "\u001b[1m44/44\u001b[0m \u001b[32m━━━━━━━━━━━━━━━━━━━━\u001b[0m\u001b[37m\u001b[0m \u001b[1m0s\u001b[0m 10ms/step - accuracy: 0.4956 - loss: 1.1382 - val_accuracy: 0.5641 - val_loss: 0.9946\n",
            "Epoch 23/300\n",
            "\u001b[1m44/44\u001b[0m \u001b[32m━━━━━━━━━━━━━━━━━━━━\u001b[0m\u001b[37m\u001b[0m \u001b[1m0s\u001b[0m 10ms/step - accuracy: 0.5353 - loss: 1.1119 - val_accuracy: 0.5577 - val_loss: 0.9437\n",
            "Epoch 24/300\n",
            "\u001b[1m44/44\u001b[0m \u001b[32m━━━━━━━━━━━━━━━━━━━━\u001b[0m\u001b[37m\u001b[0m \u001b[1m0s\u001b[0m 11ms/step - accuracy: 0.5352 - loss: 1.1336 - val_accuracy: 0.6154 - val_loss: 0.9569\n",
            "Epoch 25/300\n",
            "\u001b[1m44/44\u001b[0m \u001b[32m━━━━━━━━━━━━━━━━━━━━\u001b[0m\u001b[37m\u001b[0m \u001b[1m0s\u001b[0m 10ms/step - accuracy: 0.5111 - loss: 1.1134 - val_accuracy: 0.5769 - val_loss: 0.9717\n",
            "Epoch 26/300\n",
            "\u001b[1m44/44\u001b[0m \u001b[32m━━━━━━━━━━━━━━━━━━━━\u001b[0m\u001b[37m\u001b[0m \u001b[1m0s\u001b[0m 10ms/step - accuracy: 0.5559 - loss: 1.0748 - val_accuracy: 0.5833 - val_loss: 0.9349\n",
            "Epoch 27/300\n",
            "\u001b[1m44/44\u001b[0m \u001b[32m━━━━━━━━━━━━━━━━━━━━\u001b[0m\u001b[37m\u001b[0m \u001b[1m0s\u001b[0m 10ms/step - accuracy: 0.5464 - loss: 1.0720 - val_accuracy: 0.5897 - val_loss: 0.9314\n",
            "Epoch 28/300\n",
            "\u001b[1m44/44\u001b[0m \u001b[32m━━━━━━━━━━━━━━━━━━━━\u001b[0m\u001b[37m\u001b[0m \u001b[1m0s\u001b[0m 10ms/step - accuracy: 0.5310 - loss: 1.0666 - val_accuracy: 0.6026 - val_loss: 0.9385\n",
            "Epoch 29/300\n",
            "\u001b[1m44/44\u001b[0m \u001b[32m━━━━━━━━━━━━━━━━━━━━\u001b[0m\u001b[37m\u001b[0m \u001b[1m0s\u001b[0m 10ms/step - accuracy: 0.5623 - loss: 1.0644 - val_accuracy: 0.5897 - val_loss: 0.9147\n",
            "Epoch 30/300\n",
            "\u001b[1m44/44\u001b[0m \u001b[32m━━━━━━━━━━━━━━━━━━━━\u001b[0m\u001b[37m\u001b[0m \u001b[1m0s\u001b[0m 10ms/step - accuracy: 0.5766 - loss: 1.0601 - val_accuracy: 0.5641 - val_loss: 0.9161\n",
            "Epoch 31/300\n",
            "\u001b[1m44/44\u001b[0m \u001b[32m━━━━━━━━━━━━━━━━━━━━\u001b[0m\u001b[37m\u001b[0m \u001b[1m0s\u001b[0m 10ms/step - accuracy: 0.5857 - loss: 1.0341 - val_accuracy: 0.5449 - val_loss: 0.9638\n",
            "Epoch 32/300\n",
            "\u001b[1m44/44\u001b[0m \u001b[32m━━━━━━━━━━━━━━━━━━━━\u001b[0m\u001b[37m\u001b[0m \u001b[1m0s\u001b[0m 10ms/step - accuracy: 0.6099 - loss: 0.9934 - val_accuracy: 0.4808 - val_loss: 1.0472\n",
            "Epoch 33/300\n",
            "\u001b[1m44/44\u001b[0m \u001b[32m━━━━━━━━━━━━━━━━━━━━\u001b[0m\u001b[37m\u001b[0m \u001b[1m0s\u001b[0m 10ms/step - accuracy: 0.5745 - loss: 1.0182 - val_accuracy: 0.5897 - val_loss: 0.8910\n",
            "Epoch 34/300\n",
            "\u001b[1m44/44\u001b[0m \u001b[32m━━━━━━━━━━━━━━━━━━━━\u001b[0m\u001b[37m\u001b[0m \u001b[1m0s\u001b[0m 10ms/step - accuracy: 0.6060 - loss: 0.9864 - val_accuracy: 0.5513 - val_loss: 0.9314\n",
            "Epoch 35/300\n",
            "\u001b[1m44/44\u001b[0m \u001b[32m━━━━━━━━━━━━━━━━━━━━\u001b[0m\u001b[37m\u001b[0m \u001b[1m0s\u001b[0m 10ms/step - accuracy: 0.6216 - loss: 0.9654 - val_accuracy: 0.5769 - val_loss: 0.9249\n",
            "Epoch 36/300\n",
            "\u001b[1m44/44\u001b[0m \u001b[32m━━━━━━━━━━━━━━━━━━━━\u001b[0m\u001b[37m\u001b[0m \u001b[1m0s\u001b[0m 10ms/step - accuracy: 0.5844 - loss: 0.9889 - val_accuracy: 0.5962 - val_loss: 0.8939\n",
            "Epoch 37/300\n",
            "\u001b[1m44/44\u001b[0m \u001b[32m━━━━━━━━━━━━━━━━━━━━\u001b[0m\u001b[37m\u001b[0m \u001b[1m0s\u001b[0m 10ms/step - accuracy: 0.6082 - loss: 0.9878 - val_accuracy: 0.5962 - val_loss: 0.9043\n",
            "Epoch 38/300\n",
            "\u001b[1m44/44\u001b[0m \u001b[32m━━━━━━━━━━━━━━━━━━━━\u001b[0m\u001b[37m\u001b[0m \u001b[1m0s\u001b[0m 10ms/step - accuracy: 0.6062 - loss: 0.9843 - val_accuracy: 0.5833 - val_loss: 0.8757\n",
            "Epoch 39/300\n",
            "\u001b[1m44/44\u001b[0m \u001b[32m━━━━━━━━━━━━━━━━━━━━\u001b[0m\u001b[37m\u001b[0m \u001b[1m0s\u001b[0m 10ms/step - accuracy: 0.6030 - loss: 0.9541 - val_accuracy: 0.5769 - val_loss: 0.9792\n",
            "Epoch 40/300\n",
            "\u001b[1m44/44\u001b[0m \u001b[32m━━━━━━━━━━━━━━━━━━━━\u001b[0m\u001b[37m\u001b[0m \u001b[1m0s\u001b[0m 10ms/step - accuracy: 0.6223 - loss: 0.9388 - val_accuracy: 0.5769 - val_loss: 0.9752\n",
            "Epoch 41/300\n",
            "\u001b[1m44/44\u001b[0m \u001b[32m━━━━━━━━━━━━━━━━━━━━\u001b[0m\u001b[37m\u001b[0m \u001b[1m0s\u001b[0m 10ms/step - accuracy: 0.6204 - loss: 0.9381 - val_accuracy: 0.5769 - val_loss: 0.9825\n",
            "Epoch 42/300\n",
            "\u001b[1m44/44\u001b[0m \u001b[32m━━━━━━━━━━━━━━━━━━━━\u001b[0m\u001b[37m\u001b[0m \u001b[1m0s\u001b[0m 10ms/step - accuracy: 0.6504 - loss: 0.8828 - val_accuracy: 0.5833 - val_loss: 0.8778\n",
            "Epoch 43/300\n",
            "\u001b[1m44/44\u001b[0m \u001b[32m━━━━━━━━━━━━━━━━━━━━\u001b[0m\u001b[37m\u001b[0m \u001b[1m0s\u001b[0m 10ms/step - accuracy: 0.6294 - loss: 0.8922 - val_accuracy: 0.5897 - val_loss: 0.9030\n",
            "Epoch 44/300\n",
            "\u001b[1m44/44\u001b[0m \u001b[32m━━━━━━━━━━━━━━━━━━━━\u001b[0m\u001b[37m\u001b[0m \u001b[1m0s\u001b[0m 10ms/step - accuracy: 0.6412 - loss: 0.8930 - val_accuracy: 0.6282 - val_loss: 0.7732\n",
            "Epoch 45/300\n",
            "\u001b[1m44/44\u001b[0m \u001b[32m━━━━━━━━━━━━━━━━━━━━\u001b[0m\u001b[37m\u001b[0m \u001b[1m0s\u001b[0m 10ms/step - accuracy: 0.6549 - loss: 0.8822 - val_accuracy: 0.6795 - val_loss: 0.7187\n",
            "Epoch 46/300\n",
            "\u001b[1m44/44\u001b[0m \u001b[32m━━━━━━━━━━━━━━━━━━━━\u001b[0m\u001b[37m\u001b[0m \u001b[1m0s\u001b[0m 10ms/step - accuracy: 0.6585 - loss: 0.8284 - val_accuracy: 0.6923 - val_loss: 0.7229\n",
            "Epoch 47/300\n",
            "\u001b[1m44/44\u001b[0m \u001b[32m━━━━━━━━━━━━━━━━━━━━\u001b[0m\u001b[37m\u001b[0m \u001b[1m0s\u001b[0m 10ms/step - accuracy: 0.6533 - loss: 0.8802 - val_accuracy: 0.6474 - val_loss: 0.7217\n",
            "Epoch 48/300\n",
            "\u001b[1m44/44\u001b[0m \u001b[32m━━━━━━━━━━━━━━━━━━━━\u001b[0m\u001b[37m\u001b[0m \u001b[1m0s\u001b[0m 10ms/step - accuracy: 0.6830 - loss: 0.8150 - val_accuracy: 0.6923 - val_loss: 0.6854\n",
            "Epoch 49/300\n",
            "\u001b[1m44/44\u001b[0m \u001b[32m━━━━━━━━━━━━━━━━━━━━\u001b[0m\u001b[37m\u001b[0m \u001b[1m0s\u001b[0m 11ms/step - accuracy: 0.6644 - loss: 0.8234 - val_accuracy: 0.6667 - val_loss: 0.7386\n",
            "Epoch 50/300\n",
            "\u001b[1m44/44\u001b[0m \u001b[32m━━━━━━━━━━━━━━━━━━━━\u001b[0m\u001b[37m\u001b[0m \u001b[1m0s\u001b[0m 10ms/step - accuracy: 0.6507 - loss: 0.8675 - val_accuracy: 0.6474 - val_loss: 0.8105\n",
            "Epoch 51/300\n",
            "\u001b[1m44/44\u001b[0m \u001b[32m━━━━━━━━━━━━━━━━━━━━\u001b[0m\u001b[37m\u001b[0m \u001b[1m0s\u001b[0m 10ms/step - accuracy: 0.7061 - loss: 0.8408 - val_accuracy: 0.6538 - val_loss: 0.7803\n",
            "Epoch 52/300\n",
            "\u001b[1m44/44\u001b[0m \u001b[32m━━━━━━━━━━━━━━━━━━━━\u001b[0m\u001b[37m\u001b[0m \u001b[1m0s\u001b[0m 10ms/step - accuracy: 0.6552 - loss: 0.8440 - val_accuracy: 0.6410 - val_loss: 0.8194\n",
            "Epoch 53/300\n",
            "\u001b[1m44/44\u001b[0m \u001b[32m━━━━━━━━━━━━━━━━━━━━\u001b[0m\u001b[37m\u001b[0m \u001b[1m0s\u001b[0m 10ms/step - accuracy: 0.6940 - loss: 0.7875 - val_accuracy: 0.6154 - val_loss: 0.7581\n",
            "Epoch 54/300\n",
            "\u001b[1m44/44\u001b[0m \u001b[32m━━━━━━━━━━━━━━━━━━━━\u001b[0m\u001b[37m\u001b[0m \u001b[1m0s\u001b[0m 11ms/step - accuracy: 0.6783 - loss: 0.7992 - val_accuracy: 0.7051 - val_loss: 0.6661\n",
            "Epoch 55/300\n",
            "\u001b[1m44/44\u001b[0m \u001b[32m━━━━━━━━━━━━━━━━━━━━\u001b[0m\u001b[37m\u001b[0m \u001b[1m0s\u001b[0m 10ms/step - accuracy: 0.7019 - loss: 0.7698 - val_accuracy: 0.6667 - val_loss: 0.8107\n",
            "Epoch 56/300\n",
            "\u001b[1m44/44\u001b[0m \u001b[32m━━━━━━━━━━━━━━━━━━━━\u001b[0m\u001b[37m\u001b[0m \u001b[1m0s\u001b[0m 10ms/step - accuracy: 0.6754 - loss: 0.7846 - val_accuracy: 0.6923 - val_loss: 0.6633\n",
            "Epoch 57/300\n",
            "\u001b[1m44/44\u001b[0m \u001b[32m━━━━━━━━━━━━━━━━━━━━\u001b[0m\u001b[37m\u001b[0m \u001b[1m0s\u001b[0m 10ms/step - accuracy: 0.7051 - loss: 0.7625 - val_accuracy: 0.7244 - val_loss: 0.6346\n",
            "Epoch 58/300\n",
            "\u001b[1m44/44\u001b[0m \u001b[32m━━━━━━━━━━━━━━━━━━━━\u001b[0m\u001b[37m\u001b[0m \u001b[1m0s\u001b[0m 9ms/step - accuracy: 0.7037 - loss: 0.7390 - val_accuracy: 0.7244 - val_loss: 0.6436\n",
            "Epoch 59/300\n",
            "\u001b[1m44/44\u001b[0m \u001b[32m━━━━━━━━━━━━━━━━━━━━\u001b[0m\u001b[37m\u001b[0m \u001b[1m0s\u001b[0m 10ms/step - accuracy: 0.7254 - loss: 0.7432 - val_accuracy: 0.6346 - val_loss: 0.9424\n",
            "Epoch 60/300\n",
            "\u001b[1m44/44\u001b[0m \u001b[32m━━━━━━━━━━━━━━━━━━━━\u001b[0m\u001b[37m\u001b[0m \u001b[1m0s\u001b[0m 10ms/step - accuracy: 0.7104 - loss: 0.7235 - val_accuracy: 0.6987 - val_loss: 0.8128\n",
            "Epoch 61/300\n",
            "\u001b[1m44/44\u001b[0m \u001b[32m━━━━━━━━━━━━━━━━━━━━\u001b[0m\u001b[37m\u001b[0m \u001b[1m0s\u001b[0m 10ms/step - accuracy: 0.6929 - loss: 0.7611 - val_accuracy: 0.7115 - val_loss: 0.6738\n",
            "Epoch 62/300\n",
            "\u001b[1m44/44\u001b[0m \u001b[32m━━━━━━━━━━━━━━━━━━━━\u001b[0m\u001b[37m\u001b[0m \u001b[1m0s\u001b[0m 10ms/step - accuracy: 0.7233 - loss: 0.7033 - val_accuracy: 0.7692 - val_loss: 0.6153\n",
            "Epoch 63/300\n",
            "\u001b[1m44/44\u001b[0m \u001b[32m━━━━━━━━━━━━━━━━━━━━\u001b[0m\u001b[37m\u001b[0m \u001b[1m0s\u001b[0m 11ms/step - accuracy: 0.7074 - loss: 0.7303 - val_accuracy: 0.7115 - val_loss: 0.7074\n",
            "Epoch 64/300\n",
            "\u001b[1m44/44\u001b[0m \u001b[32m━━━━━━━━━━━━━━━━━━━━\u001b[0m\u001b[37m\u001b[0m \u001b[1m0s\u001b[0m 10ms/step - accuracy: 0.7206 - loss: 0.6771 - val_accuracy: 0.6795 - val_loss: 0.8070\n",
            "Epoch 65/300\n",
            "\u001b[1m44/44\u001b[0m \u001b[32m━━━━━━━━━━━━━━━━━━━━\u001b[0m\u001b[37m\u001b[0m \u001b[1m0s\u001b[0m 10ms/step - accuracy: 0.7333 - loss: 0.6813 - val_accuracy: 0.6667 - val_loss: 0.8345\n",
            "Epoch 66/300\n",
            "\u001b[1m44/44\u001b[0m \u001b[32m━━━━━━━━━━━━━━━━━━━━\u001b[0m\u001b[37m\u001b[0m \u001b[1m0s\u001b[0m 11ms/step - accuracy: 0.7132 - loss: 0.7154 - val_accuracy: 0.7372 - val_loss: 0.6392\n",
            "Epoch 67/300\n",
            "\u001b[1m44/44\u001b[0m \u001b[32m━━━━━━━━━━━━━━━━━━━━\u001b[0m\u001b[37m\u001b[0m \u001b[1m0s\u001b[0m 10ms/step - accuracy: 0.7310 - loss: 0.6935 - val_accuracy: 0.7115 - val_loss: 0.6076\n",
            "Epoch 68/300\n",
            "\u001b[1m44/44\u001b[0m \u001b[32m━━━━━━━━━━━━━━━━━━━━\u001b[0m\u001b[37m\u001b[0m \u001b[1m0s\u001b[0m 11ms/step - accuracy: 0.7439 - loss: 0.6530 - val_accuracy: 0.8397 - val_loss: 0.4723\n",
            "Epoch 69/300\n",
            "\u001b[1m44/44\u001b[0m \u001b[32m━━━━━━━━━━━━━━━━━━━━\u001b[0m\u001b[37m\u001b[0m \u001b[1m0s\u001b[0m 10ms/step - accuracy: 0.7417 - loss: 0.6362 - val_accuracy: 0.8013 - val_loss: 0.5523\n",
            "Epoch 70/300\n",
            "\u001b[1m44/44\u001b[0m \u001b[32m━━━━━━━━━━━━━━━━━━━━\u001b[0m\u001b[37m\u001b[0m \u001b[1m0s\u001b[0m 10ms/step - accuracy: 0.7376 - loss: 0.7072 - val_accuracy: 0.7500 - val_loss: 0.6248\n",
            "Epoch 71/300\n",
            "\u001b[1m44/44\u001b[0m \u001b[32m━━━━━━━━━━━━━━━━━━━━\u001b[0m\u001b[37m\u001b[0m \u001b[1m0s\u001b[0m 10ms/step - accuracy: 0.7610 - loss: 0.6622 - val_accuracy: 0.8077 - val_loss: 0.5255\n",
            "Epoch 72/300\n",
            "\u001b[1m44/44\u001b[0m \u001b[32m━━━━━━━━━━━━━━━━━━━━\u001b[0m\u001b[37m\u001b[0m \u001b[1m0s\u001b[0m 10ms/step - accuracy: 0.7539 - loss: 0.6641 - val_accuracy: 0.7885 - val_loss: 0.5904\n",
            "Epoch 73/300\n",
            "\u001b[1m44/44\u001b[0m \u001b[32m━━━━━━━━━━━━━━━━━━━━\u001b[0m\u001b[37m\u001b[0m \u001b[1m0s\u001b[0m 10ms/step - accuracy: 0.7537 - loss: 0.6519 - val_accuracy: 0.7436 - val_loss: 0.6135\n",
            "Epoch 74/300\n",
            "\u001b[1m44/44\u001b[0m \u001b[32m━━━━━━━━━━━━━━━━━━━━\u001b[0m\u001b[37m\u001b[0m \u001b[1m0s\u001b[0m 11ms/step - accuracy: 0.7605 - loss: 0.6214 - val_accuracy: 0.7756 - val_loss: 0.5371\n",
            "Epoch 75/300\n",
            "\u001b[1m44/44\u001b[0m \u001b[32m━━━━━━━━━━━━━━━━━━━━\u001b[0m\u001b[37m\u001b[0m \u001b[1m0s\u001b[0m 10ms/step - accuracy: 0.7452 - loss: 0.6515 - val_accuracy: 0.6538 - val_loss: 0.8017\n",
            "Epoch 76/300\n",
            "\u001b[1m44/44\u001b[0m \u001b[32m━━━━━━━━━━━━━━━━━━━━\u001b[0m\u001b[37m\u001b[0m \u001b[1m1s\u001b[0m 14ms/step - accuracy: 0.7700 - loss: 0.6050 - val_accuracy: 0.7885 - val_loss: 0.5545\n",
            "Epoch 77/300\n",
            "\u001b[1m44/44\u001b[0m \u001b[32m━━━━━━━━━━━━━━━━━━━━\u001b[0m\u001b[37m\u001b[0m \u001b[1m1s\u001b[0m 11ms/step - accuracy: 0.7698 - loss: 0.5968 - val_accuracy: 0.8077 - val_loss: 0.4897\n",
            "Epoch 78/300\n",
            "\u001b[1m44/44\u001b[0m \u001b[32m━━━━━━━━━━━━━━━━━━━━\u001b[0m\u001b[37m\u001b[0m \u001b[1m0s\u001b[0m 11ms/step - accuracy: 0.7699 - loss: 0.5783 - val_accuracy: 0.7692 - val_loss: 0.5547\n",
            "Epoch 79/300\n",
            "\u001b[1m44/44\u001b[0m \u001b[32m━━━━━━━━━━━━━━━━━━━━\u001b[0m\u001b[37m\u001b[0m \u001b[1m0s\u001b[0m 10ms/step - accuracy: 0.7696 - loss: 0.6083 - val_accuracy: 0.7372 - val_loss: 0.5541\n",
            "Epoch 80/300\n",
            "\u001b[1m44/44\u001b[0m \u001b[32m━━━━━━━━━━━━━━━━━━━━\u001b[0m\u001b[37m\u001b[0m \u001b[1m0s\u001b[0m 10ms/step - accuracy: 0.7621 - loss: 0.5960 - val_accuracy: 0.7885 - val_loss: 0.5103\n",
            "Epoch 81/300\n",
            "\u001b[1m44/44\u001b[0m \u001b[32m━━━━━━━━━━━━━━━━━━━━\u001b[0m\u001b[37m\u001b[0m \u001b[1m0s\u001b[0m 10ms/step - accuracy: 0.7776 - loss: 0.5949 - val_accuracy: 0.8269 - val_loss: 0.4883\n",
            "Epoch 82/300\n",
            "\u001b[1m44/44\u001b[0m \u001b[32m━━━━━━━━━━━━━━━━━━━━\u001b[0m\u001b[37m\u001b[0m \u001b[1m1s\u001b[0m 11ms/step - accuracy: 0.7929 - loss: 0.5617 - val_accuracy: 0.8269 - val_loss: 0.4696\n",
            "Epoch 83/300\n",
            "\u001b[1m44/44\u001b[0m \u001b[32m━━━━━━━━━━━━━━━━━━━━\u001b[0m\u001b[37m\u001b[0m \u001b[1m0s\u001b[0m 9ms/step - accuracy: 0.7750 - loss: 0.5727 - val_accuracy: 0.8141 - val_loss: 0.4770\n",
            "Epoch 84/300\n",
            "\u001b[1m44/44\u001b[0m \u001b[32m━━━━━━━━━━━━━━━━━━━━\u001b[0m\u001b[37m\u001b[0m \u001b[1m0s\u001b[0m 10ms/step - accuracy: 0.8128 - loss: 0.5157 - val_accuracy: 0.8333 - val_loss: 0.4278\n",
            "Epoch 85/300\n",
            "\u001b[1m44/44\u001b[0m \u001b[32m━━━━━━━━━━━━━━━━━━━━\u001b[0m\u001b[37m\u001b[0m \u001b[1m0s\u001b[0m 10ms/step - accuracy: 0.7840 - loss: 0.5523 - val_accuracy: 0.8013 - val_loss: 0.5048\n",
            "Epoch 86/300\n",
            "\u001b[1m44/44\u001b[0m \u001b[32m━━━━━━━━━━━━━━━━━━━━\u001b[0m\u001b[37m\u001b[0m \u001b[1m0s\u001b[0m 10ms/step - accuracy: 0.7934 - loss: 0.5275 - val_accuracy: 0.6795 - val_loss: 0.6864\n",
            "Epoch 87/300\n",
            "\u001b[1m44/44\u001b[0m \u001b[32m━━━━━━━━━━━━━━━━━━━━\u001b[0m\u001b[37m\u001b[0m \u001b[1m0s\u001b[0m 10ms/step - accuracy: 0.7957 - loss: 0.5509 - val_accuracy: 0.8397 - val_loss: 0.4418\n",
            "Epoch 88/300\n",
            "\u001b[1m44/44\u001b[0m \u001b[32m━━━━━━━━━━━━━━━━━━━━\u001b[0m\u001b[37m\u001b[0m \u001b[1m0s\u001b[0m 10ms/step - accuracy: 0.8067 - loss: 0.5235 - val_accuracy: 0.8141 - val_loss: 0.4815\n",
            "Epoch 89/300\n",
            "\u001b[1m44/44\u001b[0m \u001b[32m━━━━━━━━━━━━━━━━━━━━\u001b[0m\u001b[37m\u001b[0m \u001b[1m0s\u001b[0m 10ms/step - accuracy: 0.7994 - loss: 0.5414 - val_accuracy: 0.7756 - val_loss: 0.4971\n",
            "Epoch 90/300\n",
            "\u001b[1m44/44\u001b[0m \u001b[32m━━━━━━━━━━━━━━━━━━━━\u001b[0m\u001b[37m\u001b[0m \u001b[1m0s\u001b[0m 10ms/step - accuracy: 0.8006 - loss: 0.5204 - val_accuracy: 0.8141 - val_loss: 0.4855\n",
            "Epoch 91/300\n",
            "\u001b[1m44/44\u001b[0m \u001b[32m━━━━━━━━━━━━━━━━━━━━\u001b[0m\u001b[37m\u001b[0m \u001b[1m0s\u001b[0m 10ms/step - accuracy: 0.7870 - loss: 0.5505 - val_accuracy: 0.8590 - val_loss: 0.4174\n",
            "Epoch 92/300\n",
            "\u001b[1m44/44\u001b[0m \u001b[32m━━━━━━━━━━━━━━━━━━━━\u001b[0m\u001b[37m\u001b[0m \u001b[1m0s\u001b[0m 10ms/step - accuracy: 0.8138 - loss: 0.4836 - val_accuracy: 0.7756 - val_loss: 0.5340\n",
            "Epoch 93/300\n",
            "\u001b[1m44/44\u001b[0m \u001b[32m━━━━━━━━━━━━━━━━━━━━\u001b[0m\u001b[37m\u001b[0m \u001b[1m0s\u001b[0m 10ms/step - accuracy: 0.7803 - loss: 0.5816 - val_accuracy: 0.8397 - val_loss: 0.4167\n",
            "Epoch 94/300\n",
            "\u001b[1m44/44\u001b[0m \u001b[32m━━━━━━━━━━━━━━━━━━━━\u001b[0m\u001b[37m\u001b[0m \u001b[1m0s\u001b[0m 10ms/step - accuracy: 0.7956 - loss: 0.5200 - val_accuracy: 0.8141 - val_loss: 0.4416\n",
            "Epoch 95/300\n",
            "\u001b[1m44/44\u001b[0m \u001b[32m━━━━━━━━━━━━━━━━━━━━\u001b[0m\u001b[37m\u001b[0m \u001b[1m0s\u001b[0m 10ms/step - accuracy: 0.7986 - loss: 0.5129 - val_accuracy: 0.7692 - val_loss: 0.5670\n",
            "Epoch 96/300\n",
            "\u001b[1m44/44\u001b[0m \u001b[32m━━━━━━━━━━━━━━━━━━━━\u001b[0m\u001b[37m\u001b[0m \u001b[1m0s\u001b[0m 10ms/step - accuracy: 0.7996 - loss: 0.4952 - val_accuracy: 0.8141 - val_loss: 0.5041\n",
            "Epoch 97/300\n",
            "\u001b[1m44/44\u001b[0m \u001b[32m━━━━━━━━━━━━━━━━━━━━\u001b[0m\u001b[37m\u001b[0m \u001b[1m1s\u001b[0m 12ms/step - accuracy: 0.8112 - loss: 0.5221 - val_accuracy: 0.8397 - val_loss: 0.3851\n",
            "Epoch 98/300\n",
            "\u001b[1m44/44\u001b[0m \u001b[32m━━━━━━━━━━━━━━━━━━━━\u001b[0m\u001b[37m\u001b[0m \u001b[1m0s\u001b[0m 11ms/step - accuracy: 0.7950 - loss: 0.5156 - val_accuracy: 0.8333 - val_loss: 0.4336\n",
            "Epoch 99/300\n",
            "\u001b[1m44/44\u001b[0m \u001b[32m━━━━━━━━━━━━━━━━━━━━\u001b[0m\u001b[37m\u001b[0m \u001b[1m0s\u001b[0m 11ms/step - accuracy: 0.8146 - loss: 0.5134 - val_accuracy: 0.7628 - val_loss: 0.6290\n",
            "Epoch 100/300\n",
            "\u001b[1m44/44\u001b[0m \u001b[32m━━━━━━━━━━━━━━━━━━━━\u001b[0m\u001b[37m\u001b[0m \u001b[1m1s\u001b[0m 11ms/step - accuracy: 0.8093 - loss: 0.4957 - val_accuracy: 0.8077 - val_loss: 0.4848\n",
            "Epoch 101/300\n",
            "\u001b[1m44/44\u001b[0m \u001b[32m━━━━━━━━━━━━━━━━━━━━\u001b[0m\u001b[37m\u001b[0m \u001b[1m1s\u001b[0m 11ms/step - accuracy: 0.8261 - loss: 0.4703 - val_accuracy: 0.8462 - val_loss: 0.4482\n",
            "Epoch 102/300\n",
            "\u001b[1m44/44\u001b[0m \u001b[32m━━━━━━━━━━━━━━━━━━━━\u001b[0m\u001b[37m\u001b[0m \u001b[1m0s\u001b[0m 11ms/step - accuracy: 0.8024 - loss: 0.5247 - val_accuracy: 0.8590 - val_loss: 0.4106\n",
            "Epoch 103/300\n",
            "\u001b[1m44/44\u001b[0m \u001b[32m━━━━━━━━━━━━━━━━━━━━\u001b[0m\u001b[37m\u001b[0m \u001b[1m0s\u001b[0m 10ms/step - accuracy: 0.8204 - loss: 0.4807 - val_accuracy: 0.8013 - val_loss: 0.5193\n",
            "Epoch 104/300\n",
            "\u001b[1m44/44\u001b[0m \u001b[32m━━━━━━━━━━━━━━━━━━━━\u001b[0m\u001b[37m\u001b[0m \u001b[1m0s\u001b[0m 10ms/step - accuracy: 0.8232 - loss: 0.4873 - val_accuracy: 0.7949 - val_loss: 0.4590\n",
            "Epoch 105/300\n",
            "\u001b[1m44/44\u001b[0m \u001b[32m━━━━━━━━━━━━━━━━━━━━\u001b[0m\u001b[37m\u001b[0m \u001b[1m0s\u001b[0m 10ms/step - accuracy: 0.8149 - loss: 0.4972 - val_accuracy: 0.8077 - val_loss: 0.5102\n",
            "Epoch 106/300\n",
            "\u001b[1m44/44\u001b[0m \u001b[32m━━━━━━━━━━━━━━━━━━━━\u001b[0m\u001b[37m\u001b[0m \u001b[1m1s\u001b[0m 11ms/step - accuracy: 0.8137 - loss: 0.4840 - val_accuracy: 0.8462 - val_loss: 0.4477\n",
            "Epoch 107/300\n",
            "\u001b[1m44/44\u001b[0m \u001b[32m━━━━━━━━━━━━━━━━━━━━\u001b[0m\u001b[37m\u001b[0m \u001b[1m0s\u001b[0m 10ms/step - accuracy: 0.8267 - loss: 0.4745 - val_accuracy: 0.8077 - val_loss: 0.5141\n",
            "Epoch 108/300\n",
            "\u001b[1m44/44\u001b[0m \u001b[32m━━━━━━━━━━━━━━━━━━━━\u001b[0m\u001b[37m\u001b[0m \u001b[1m0s\u001b[0m 10ms/step - accuracy: 0.8188 - loss: 0.4739 - val_accuracy: 0.8526 - val_loss: 0.3976\n",
            "Epoch 109/300\n",
            "\u001b[1m44/44\u001b[0m \u001b[32m━━━━━━━━━━━━━━━━━━━━\u001b[0m\u001b[37m\u001b[0m \u001b[1m0s\u001b[0m 10ms/step - accuracy: 0.8039 - loss: 0.5301 - val_accuracy: 0.8590 - val_loss: 0.4213\n",
            "Epoch 110/300\n",
            "\u001b[1m44/44\u001b[0m \u001b[32m━━━━━━━━━━━━━━━━━━━━\u001b[0m\u001b[37m\u001b[0m \u001b[1m0s\u001b[0m 10ms/step - accuracy: 0.8153 - loss: 0.4854 - val_accuracy: 0.8077 - val_loss: 0.4430\n",
            "Epoch 111/300\n",
            "\u001b[1m44/44\u001b[0m \u001b[32m━━━━━━━━━━━━━━━━━━━━\u001b[0m\u001b[37m\u001b[0m \u001b[1m0s\u001b[0m 9ms/step - accuracy: 0.8207 - loss: 0.4547 - val_accuracy: 0.7628 - val_loss: 0.5063\n",
            "Epoch 112/300\n",
            "\u001b[1m44/44\u001b[0m \u001b[32m━━━━━━━━━━━━━━━━━━━━\u001b[0m\u001b[37m\u001b[0m \u001b[1m0s\u001b[0m 10ms/step - accuracy: 0.8127 - loss: 0.4717 - val_accuracy: 0.8205 - val_loss: 0.4474\n",
            "Epoch 113/300\n",
            "\u001b[1m44/44\u001b[0m \u001b[32m━━━━━━━━━━━━━━━━━━━━\u001b[0m\u001b[37m\u001b[0m \u001b[1m0s\u001b[0m 10ms/step - accuracy: 0.8142 - loss: 0.5104 - val_accuracy: 0.8590 - val_loss: 0.4099\n",
            "Epoch 114/300\n",
            "\u001b[1m44/44\u001b[0m \u001b[32m━━━━━━━━━━━━━━━━━━━━\u001b[0m\u001b[37m\u001b[0m \u001b[1m1s\u001b[0m 11ms/step - accuracy: 0.8218 - loss: 0.4363 - val_accuracy: 0.7628 - val_loss: 0.5496\n",
            "Epoch 115/300\n",
            "\u001b[1m44/44\u001b[0m \u001b[32m━━━━━━━━━━━━━━━━━━━━\u001b[0m\u001b[37m\u001b[0m \u001b[1m1s\u001b[0m 11ms/step - accuracy: 0.8156 - loss: 0.4391 - val_accuracy: 0.8526 - val_loss: 0.3972\n",
            "Epoch 116/300\n",
            "\u001b[1m44/44\u001b[0m \u001b[32m━━━━━━━━━━━━━━━━━━━━\u001b[0m\u001b[37m\u001b[0m \u001b[1m0s\u001b[0m 10ms/step - accuracy: 0.8228 - loss: 0.4383 - val_accuracy: 0.8654 - val_loss: 0.3539\n",
            "Epoch 117/300\n",
            "\u001b[1m44/44\u001b[0m \u001b[32m━━━━━━━━━━━━━━━━━━━━\u001b[0m\u001b[37m\u001b[0m \u001b[1m1s\u001b[0m 11ms/step - accuracy: 0.8288 - loss: 0.4280 - val_accuracy: 0.8205 - val_loss: 0.4020\n",
            "Epoch 118/300\n",
            "\u001b[1m44/44\u001b[0m \u001b[32m━━━━━━━━━━━━━━━━━━━━\u001b[0m\u001b[37m\u001b[0m \u001b[1m0s\u001b[0m 10ms/step - accuracy: 0.8355 - loss: 0.4492 - val_accuracy: 0.8333 - val_loss: 0.3652\n",
            "Epoch 119/300\n",
            "\u001b[1m44/44\u001b[0m \u001b[32m━━━━━━━━━━━━━━━━━━━━\u001b[0m\u001b[37m\u001b[0m \u001b[1m0s\u001b[0m 11ms/step - accuracy: 0.8167 - loss: 0.4806 - val_accuracy: 0.8205 - val_loss: 0.4447\n",
            "Epoch 120/300\n",
            "\u001b[1m44/44\u001b[0m \u001b[32m━━━━━━━━━━━━━━━━━━━━\u001b[0m\u001b[37m\u001b[0m \u001b[1m0s\u001b[0m 10ms/step - accuracy: 0.8461 - loss: 0.4497 - val_accuracy: 0.8654 - val_loss: 0.4086\n",
            "Epoch 121/300\n",
            "\u001b[1m44/44\u001b[0m \u001b[32m━━━━━━━━━━━━━━━━━━━━\u001b[0m\u001b[37m\u001b[0m \u001b[1m0s\u001b[0m 10ms/step - accuracy: 0.8233 - loss: 0.4679 - val_accuracy: 0.8333 - val_loss: 0.4050\n",
            "Epoch 122/300\n",
            "\u001b[1m44/44\u001b[0m \u001b[32m━━━━━━━━━━━━━━━━━━━━\u001b[0m\u001b[37m\u001b[0m \u001b[1m0s\u001b[0m 10ms/step - accuracy: 0.8322 - loss: 0.4249 - val_accuracy: 0.8590 - val_loss: 0.3734\n",
            "Epoch 123/300\n",
            "\u001b[1m44/44\u001b[0m \u001b[32m━━━━━━━━━━━━━━━━━━━━\u001b[0m\u001b[37m\u001b[0m \u001b[1m0s\u001b[0m 10ms/step - accuracy: 0.8303 - loss: 0.4180 - val_accuracy: 0.7821 - val_loss: 0.5311\n",
            "Epoch 124/300\n",
            "\u001b[1m44/44\u001b[0m \u001b[32m━━━━━━━━━━━━━━━━━━━━\u001b[0m\u001b[37m\u001b[0m \u001b[1m0s\u001b[0m 11ms/step - accuracy: 0.8243 - loss: 0.4350 - val_accuracy: 0.8397 - val_loss: 0.3921\n",
            "Epoch 125/300\n",
            "\u001b[1m44/44\u001b[0m \u001b[32m━━━━━━━━━━━━━━━━━━━━\u001b[0m\u001b[37m\u001b[0m \u001b[1m0s\u001b[0m 10ms/step - accuracy: 0.8423 - loss: 0.4183 - val_accuracy: 0.8269 - val_loss: 0.3740\n",
            "Epoch 126/300\n",
            "\u001b[1m44/44\u001b[0m \u001b[32m━━━━━━━━━━━━━━━━━━━━\u001b[0m\u001b[37m\u001b[0m \u001b[1m0s\u001b[0m 10ms/step - accuracy: 0.8474 - loss: 0.4286 - val_accuracy: 0.8590 - val_loss: 0.4354\n",
            "Epoch 127/300\n",
            "\u001b[1m44/44\u001b[0m \u001b[32m━━━━━━━━━━━━━━━━━━━━\u001b[0m\u001b[37m\u001b[0m \u001b[1m0s\u001b[0m 10ms/step - accuracy: 0.8196 - loss: 0.4352 - val_accuracy: 0.8013 - val_loss: 0.5244\n",
            "Epoch 128/300\n",
            "\u001b[1m44/44\u001b[0m \u001b[32m━━━━━━━━━━━━━━━━━━━━\u001b[0m\u001b[37m\u001b[0m \u001b[1m0s\u001b[0m 10ms/step - accuracy: 0.8305 - loss: 0.4235 - val_accuracy: 0.8397 - val_loss: 0.4440\n",
            "Epoch 129/300\n",
            "\u001b[1m44/44\u001b[0m \u001b[32m━━━━━━━━━━━━━━━━━━━━\u001b[0m\u001b[37m\u001b[0m \u001b[1m0s\u001b[0m 10ms/step - accuracy: 0.8172 - loss: 0.4757 - val_accuracy: 0.8205 - val_loss: 0.4915\n",
            "Epoch 130/300\n",
            "\u001b[1m44/44\u001b[0m \u001b[32m━━━━━━━━━━━━━━━━━━━━\u001b[0m\u001b[37m\u001b[0m \u001b[1m0s\u001b[0m 10ms/step - accuracy: 0.8301 - loss: 0.4230 - val_accuracy: 0.8462 - val_loss: 0.3883\n",
            "Epoch 131/300\n",
            "\u001b[1m44/44\u001b[0m \u001b[32m━━━━━━━━━━━━━━━━━━━━\u001b[0m\u001b[37m\u001b[0m \u001b[1m0s\u001b[0m 10ms/step - accuracy: 0.8430 - loss: 0.3927 - val_accuracy: 0.8590 - val_loss: 0.4052\n",
            "Epoch 132/300\n",
            "\u001b[1m44/44\u001b[0m \u001b[32m━━━━━━━━━━━━━━━━━━━━\u001b[0m\u001b[37m\u001b[0m \u001b[1m0s\u001b[0m 10ms/step - accuracy: 0.8434 - loss: 0.4090 - val_accuracy: 0.7821 - val_loss: 0.4791\n",
            "Epoch 133/300\n",
            "\u001b[1m44/44\u001b[0m \u001b[32m━━━━━━━━━━━━━━━━━━━━\u001b[0m\u001b[37m\u001b[0m \u001b[1m0s\u001b[0m 10ms/step - accuracy: 0.8381 - loss: 0.4065 - val_accuracy: 0.8205 - val_loss: 0.5186\n",
            "Epoch 134/300\n",
            "\u001b[1m44/44\u001b[0m \u001b[32m━━━━━━━━━━━━━━━━━━━━\u001b[0m\u001b[37m\u001b[0m \u001b[1m0s\u001b[0m 10ms/step - accuracy: 0.8398 - loss: 0.4201 - val_accuracy: 0.8141 - val_loss: 0.4748\n",
            "Epoch 135/300\n",
            "\u001b[1m44/44\u001b[0m \u001b[32m━━━━━━━━━━━━━━━━━━━━\u001b[0m\u001b[37m\u001b[0m \u001b[1m0s\u001b[0m 10ms/step - accuracy: 0.8659 - loss: 0.3809 - val_accuracy: 0.8526 - val_loss: 0.4071\n",
            "Epoch 136/300\n",
            "\u001b[1m44/44\u001b[0m \u001b[32m━━━━━━━━━━━━━━━━━━━━\u001b[0m\u001b[37m\u001b[0m \u001b[1m0s\u001b[0m 10ms/step - accuracy: 0.8494 - loss: 0.3999 - val_accuracy: 0.8205 - val_loss: 0.4806\n",
            "Epoch 137/300\n",
            "\u001b[1m44/44\u001b[0m \u001b[32m━━━━━━━━━━━━━━━━━━━━\u001b[0m\u001b[37m\u001b[0m \u001b[1m0s\u001b[0m 10ms/step - accuracy: 0.8436 - loss: 0.4094 - val_accuracy: 0.7821 - val_loss: 0.5117\n",
            "Epoch 138/300\n",
            "\u001b[1m44/44\u001b[0m \u001b[32m━━━━━━━━━━━━━━━━━━━━\u001b[0m\u001b[37m\u001b[0m \u001b[1m0s\u001b[0m 10ms/step - accuracy: 0.8397 - loss: 0.4101 - val_accuracy: 0.8269 - val_loss: 0.4649\n",
            "Epoch 139/300\n",
            "\u001b[1m44/44\u001b[0m \u001b[32m━━━━━━━━━━━━━━━━━━━━\u001b[0m\u001b[37m\u001b[0m \u001b[1m0s\u001b[0m 10ms/step - accuracy: 0.8297 - loss: 0.4157 - val_accuracy: 0.8333 - val_loss: 0.4413\n",
            "Epoch 140/300\n",
            "\u001b[1m44/44\u001b[0m \u001b[32m━━━━━━━━━━━━━━━━━━━━\u001b[0m\u001b[37m\u001b[0m \u001b[1m0s\u001b[0m 9ms/step - accuracy: 0.8310 - loss: 0.4408 - val_accuracy: 0.8397 - val_loss: 0.4423\n",
            "Epoch 141/300\n",
            "\u001b[1m44/44\u001b[0m \u001b[32m━━━━━━━━━━━━━━━━━━━━\u001b[0m\u001b[37m\u001b[0m \u001b[1m0s\u001b[0m 9ms/step - accuracy: 0.8394 - loss: 0.4159 - val_accuracy: 0.7756 - val_loss: 0.5927\n",
            "Epoch 142/300\n",
            "\u001b[1m44/44\u001b[0m \u001b[32m━━━━━━━━━━━━━━━━━━━━\u001b[0m\u001b[37m\u001b[0m \u001b[1m0s\u001b[0m 10ms/step - accuracy: 0.8451 - loss: 0.4221 - val_accuracy: 0.8205 - val_loss: 0.4368\n",
            "Epoch 143/300\n",
            "\u001b[1m44/44\u001b[0m \u001b[32m━━━━━━━━━━━━━━━━━━━━\u001b[0m\u001b[37m\u001b[0m \u001b[1m0s\u001b[0m 10ms/step - accuracy: 0.8377 - loss: 0.4233 - val_accuracy: 0.8077 - val_loss: 0.5256\n",
            "Epoch 144/300\n",
            "\u001b[1m44/44\u001b[0m \u001b[32m━━━━━━━━━━━━━━━━━━━━\u001b[0m\u001b[37m\u001b[0m \u001b[1m0s\u001b[0m 9ms/step - accuracy: 0.8272 - loss: 0.4147 - val_accuracy: 0.7885 - val_loss: 0.5780\n",
            "Epoch 145/300\n",
            "\u001b[1m44/44\u001b[0m \u001b[32m━━━━━━━━━━━━━━━━━━━━\u001b[0m\u001b[37m\u001b[0m \u001b[1m0s\u001b[0m 10ms/step - accuracy: 0.8421 - loss: 0.4117 - val_accuracy: 0.8974 - val_loss: 0.3595\n",
            "Epoch 146/300\n",
            "\u001b[1m44/44\u001b[0m \u001b[32m━━━━━━━━━━━━━━━━━━━━\u001b[0m\u001b[37m\u001b[0m \u001b[1m0s\u001b[0m 10ms/step - accuracy: 0.8455 - loss: 0.3962 - val_accuracy: 0.8654 - val_loss: 0.3891\n",
            "Epoch 147/300\n",
            "\u001b[1m44/44\u001b[0m \u001b[32m━━━━━━━━━━━━━━━━━━━━\u001b[0m\u001b[37m\u001b[0m \u001b[1m0s\u001b[0m 10ms/step - accuracy: 0.8263 - loss: 0.4336 - val_accuracy: 0.8718 - val_loss: 0.4072\n",
            "Epoch 148/300\n",
            "\u001b[1m44/44\u001b[0m \u001b[32m━━━━━━━━━━━━━━━━━━━━\u001b[0m\u001b[37m\u001b[0m \u001b[1m0s\u001b[0m 9ms/step - accuracy: 0.8438 - loss: 0.3876 - val_accuracy: 0.8846 - val_loss: 0.3815\n",
            "Epoch 149/300\n",
            "\u001b[1m44/44\u001b[0m \u001b[32m━━━━━━━━━━━━━━━━━━━━\u001b[0m\u001b[37m\u001b[0m \u001b[1m0s\u001b[0m 9ms/step - accuracy: 0.8461 - loss: 0.4062 - val_accuracy: 0.8590 - val_loss: 0.4030\n",
            "Epoch 150/300\n",
            "\u001b[1m44/44\u001b[0m \u001b[32m━━━━━━━━━━━━━━━━━━━━\u001b[0m\u001b[37m\u001b[0m \u001b[1m0s\u001b[0m 11ms/step - accuracy: 0.8442 - loss: 0.3790 - val_accuracy: 0.8782 - val_loss: 0.4232\n",
            "Epoch 151/300\n",
            "\u001b[1m44/44\u001b[0m \u001b[32m━━━━━━━━━━━━━━━━━━━━\u001b[0m\u001b[37m\u001b[0m \u001b[1m0s\u001b[0m 10ms/step - accuracy: 0.8484 - loss: 0.3937 - val_accuracy: 0.8654 - val_loss: 0.4040\n",
            "Epoch 152/300\n",
            "\u001b[1m44/44\u001b[0m \u001b[32m━━━━━━━━━━━━━━━━━━━━\u001b[0m\u001b[37m\u001b[0m \u001b[1m0s\u001b[0m 10ms/step - accuracy: 0.8510 - loss: 0.3661 - val_accuracy: 0.8526 - val_loss: 0.4102\n",
            "Epoch 153/300\n",
            "\u001b[1m44/44\u001b[0m \u001b[32m━━━━━━━━━━━━━━━━━━━━\u001b[0m\u001b[37m\u001b[0m \u001b[1m0s\u001b[0m 10ms/step - accuracy: 0.8520 - loss: 0.4000 - val_accuracy: 0.8205 - val_loss: 0.4548\n",
            "Epoch 154/300\n",
            "\u001b[1m44/44\u001b[0m \u001b[32m━━━━━━━━━━━━━━━━━━━━\u001b[0m\u001b[37m\u001b[0m \u001b[1m0s\u001b[0m 10ms/step - accuracy: 0.8569 - loss: 0.3900 - val_accuracy: 0.8269 - val_loss: 0.4386\n",
            "Epoch 155/300\n",
            "\u001b[1m44/44\u001b[0m \u001b[32m━━━━━━━━━━━━━━━━━━━━\u001b[0m\u001b[37m\u001b[0m \u001b[1m0s\u001b[0m 10ms/step - accuracy: 0.8658 - loss: 0.3661 - val_accuracy: 0.8269 - val_loss: 0.4275\n",
            "Epoch 156/300\n",
            "\u001b[1m44/44\u001b[0m \u001b[32m━━━━━━━━━━━━━━━━━━━━\u001b[0m\u001b[37m\u001b[0m \u001b[1m0s\u001b[0m 10ms/step - accuracy: 0.8734 - loss: 0.3356 - val_accuracy: 0.8077 - val_loss: 0.4981\n",
            "Epoch 157/300\n",
            "\u001b[1m44/44\u001b[0m \u001b[32m━━━━━━━━━━━━━━━━━━━━\u001b[0m\u001b[37m\u001b[0m \u001b[1m0s\u001b[0m 10ms/step - accuracy: 0.8510 - loss: 0.3686 - val_accuracy: 0.8526 - val_loss: 0.3899\n",
            "Epoch 158/300\n",
            "\u001b[1m44/44\u001b[0m \u001b[32m━━━━━━━━━━━━━━━━━━━━\u001b[0m\u001b[37m\u001b[0m \u001b[1m0s\u001b[0m 10ms/step - accuracy: 0.8396 - loss: 0.3885 - val_accuracy: 0.8526 - val_loss: 0.3865\n",
            "Epoch 159/300\n",
            "\u001b[1m44/44\u001b[0m \u001b[32m━━━━━━━━━━━━━━━━━━━━\u001b[0m\u001b[37m\u001b[0m \u001b[1m0s\u001b[0m 10ms/step - accuracy: 0.8717 - loss: 0.3588 - val_accuracy: 0.8654 - val_loss: 0.4037\n",
            "Epoch 160/300\n",
            "\u001b[1m44/44\u001b[0m \u001b[32m━━━━━━━━━━━━━━━━━━━━\u001b[0m\u001b[37m\u001b[0m \u001b[1m0s\u001b[0m 11ms/step - accuracy: 0.8534 - loss: 0.4034 - val_accuracy: 0.8333 - val_loss: 0.3964\n",
            "Epoch 161/300\n",
            "\u001b[1m44/44\u001b[0m \u001b[32m━━━━━━━━━━━━━━━━━━━━\u001b[0m\u001b[37m\u001b[0m \u001b[1m0s\u001b[0m 10ms/step - accuracy: 0.8408 - loss: 0.3971 - val_accuracy: 0.8333 - val_loss: 0.3830\n",
            "Epoch 162/300\n",
            "\u001b[1m44/44\u001b[0m \u001b[32m━━━━━━━━━━━━━━━━━━━━\u001b[0m\u001b[37m\u001b[0m \u001b[1m0s\u001b[0m 10ms/step - accuracy: 0.8499 - loss: 0.4090 - val_accuracy: 0.8269 - val_loss: 0.4239\n",
            "Epoch 163/300\n",
            "\u001b[1m44/44\u001b[0m \u001b[32m━━━━━━━━━━━━━━━━━━━━\u001b[0m\u001b[37m\u001b[0m \u001b[1m0s\u001b[0m 10ms/step - accuracy: 0.8460 - loss: 0.3891 - val_accuracy: 0.8141 - val_loss: 0.4598\n",
            "Epoch 164/300\n",
            "\u001b[1m44/44\u001b[0m \u001b[32m━━━━━━━━━━━━━━━━━━━━\u001b[0m\u001b[37m\u001b[0m \u001b[1m0s\u001b[0m 11ms/step - accuracy: 0.8351 - loss: 0.4127 - val_accuracy: 0.8269 - val_loss: 0.4400\n",
            "Epoch 165/300\n",
            "\u001b[1m44/44\u001b[0m \u001b[32m━━━━━━━━━━━━━━━━━━━━\u001b[0m\u001b[37m\u001b[0m \u001b[1m0s\u001b[0m 10ms/step - accuracy: 0.8459 - loss: 0.3837 - val_accuracy: 0.8269 - val_loss: 0.4237\n",
            "Epoch 166/300\n",
            "\u001b[1m44/44\u001b[0m \u001b[32m━━━━━━━━━━━━━━━━━━━━\u001b[0m\u001b[37m\u001b[0m \u001b[1m0s\u001b[0m 10ms/step - accuracy: 0.8453 - loss: 0.3835 - val_accuracy: 0.8654 - val_loss: 0.4094\n",
            "Epoch 167/300\n",
            "\u001b[1m44/44\u001b[0m \u001b[32m━━━━━━━━━━━━━━━━━━━━\u001b[0m\u001b[37m\u001b[0m \u001b[1m0s\u001b[0m 10ms/step - accuracy: 0.8498 - loss: 0.3745 - val_accuracy: 0.8526 - val_loss: 0.3914\n",
            "Epoch 168/300\n",
            "\u001b[1m44/44\u001b[0m \u001b[32m━━━━━━━━━━━━━━━━━━━━\u001b[0m\u001b[37m\u001b[0m \u001b[1m0s\u001b[0m 10ms/step - accuracy: 0.8503 - loss: 0.3757 - val_accuracy: 0.8654 - val_loss: 0.3692\n",
            "Epoch 169/300\n",
            "\u001b[1m44/44\u001b[0m \u001b[32m━━━━━━━━━━━━━━━━━━━━\u001b[0m\u001b[37m\u001b[0m \u001b[1m0s\u001b[0m 10ms/step - accuracy: 0.8636 - loss: 0.3436 - val_accuracy: 0.8269 - val_loss: 0.4278\n",
            "Epoch 170/300\n",
            "\u001b[1m44/44\u001b[0m \u001b[32m━━━━━━━━━━━━━━━━━━━━\u001b[0m\u001b[37m\u001b[0m \u001b[1m0s\u001b[0m 10ms/step - accuracy: 0.8360 - loss: 0.3995 - val_accuracy: 0.8846 - val_loss: 0.3715\n",
            "Epoch 171/300\n",
            "\u001b[1m44/44\u001b[0m \u001b[32m━━━━━━━━━━━━━━━━━━━━\u001b[0m\u001b[37m\u001b[0m \u001b[1m0s\u001b[0m 10ms/step - accuracy: 0.8449 - loss: 0.3773 - val_accuracy: 0.7821 - val_loss: 0.6007\n",
            "Epoch 172/300\n",
            "\u001b[1m44/44\u001b[0m \u001b[32m━━━━━━━━━━━━━━━━━━━━\u001b[0m\u001b[37m\u001b[0m \u001b[1m0s\u001b[0m 10ms/step - accuracy: 0.8649 - loss: 0.3722 - val_accuracy: 0.8141 - val_loss: 0.4436\n",
            "Epoch 173/300\n",
            "\u001b[1m44/44\u001b[0m \u001b[32m━━━━━━━━━━━━━━━━━━━━\u001b[0m\u001b[37m\u001b[0m \u001b[1m0s\u001b[0m 10ms/step - accuracy: 0.8512 - loss: 0.3705 - val_accuracy: 0.8205 - val_loss: 0.4216\n",
            "Epoch 174/300\n",
            "\u001b[1m44/44\u001b[0m \u001b[32m━━━━━━━━━━━━━━━━━━━━\u001b[0m\u001b[37m\u001b[0m \u001b[1m0s\u001b[0m 10ms/step - accuracy: 0.8598 - loss: 0.3556 - val_accuracy: 0.8462 - val_loss: 0.3833\n",
            "Epoch 175/300\n",
            "\u001b[1m44/44\u001b[0m \u001b[32m━━━━━━━━━━━━━━━━━━━━\u001b[0m\u001b[37m\u001b[0m \u001b[1m0s\u001b[0m 10ms/step - accuracy: 0.8348 - loss: 0.4435 - val_accuracy: 0.8782 - val_loss: 0.3550\n",
            "Epoch 176/300\n",
            "\u001b[1m44/44\u001b[0m \u001b[32m━━━━━━━━━━━━━━━━━━━━\u001b[0m\u001b[37m\u001b[0m \u001b[1m0s\u001b[0m 10ms/step - accuracy: 0.8561 - loss: 0.3738 - val_accuracy: 0.8462 - val_loss: 0.3914\n",
            "Epoch 177/300\n",
            "\u001b[1m44/44\u001b[0m \u001b[32m━━━━━━━━━━━━━━━━━━━━\u001b[0m\u001b[37m\u001b[0m \u001b[1m0s\u001b[0m 11ms/step - accuracy: 0.8537 - loss: 0.3856 - val_accuracy: 0.8846 - val_loss: 0.3718\n",
            "Epoch 178/300\n",
            "\u001b[1m44/44\u001b[0m \u001b[32m━━━━━━━━━━━━━━━━━━━━\u001b[0m\u001b[37m\u001b[0m \u001b[1m0s\u001b[0m 10ms/step - accuracy: 0.8714 - loss: 0.3461 - val_accuracy: 0.8718 - val_loss: 0.4040\n",
            "Epoch 179/300\n",
            "\u001b[1m44/44\u001b[0m \u001b[32m━━━━━━━━━━━━━━━━━━━━\u001b[0m\u001b[37m\u001b[0m \u001b[1m0s\u001b[0m 9ms/step - accuracy: 0.8767 - loss: 0.3430 - val_accuracy: 0.8397 - val_loss: 0.4170\n",
            "Epoch 180/300\n",
            "\u001b[1m44/44\u001b[0m \u001b[32m━━━━━━━━━━━━━━━━━━━━\u001b[0m\u001b[37m\u001b[0m \u001b[1m0s\u001b[0m 10ms/step - accuracy: 0.8615 - loss: 0.3537 - val_accuracy: 0.8654 - val_loss: 0.4109\n",
            "Epoch 181/300\n",
            "\u001b[1m44/44\u001b[0m \u001b[32m━━━━━━━━━━━━━━━━━━━━\u001b[0m\u001b[37m\u001b[0m \u001b[1m0s\u001b[0m 10ms/step - accuracy: 0.8584 - loss: 0.3677 - val_accuracy: 0.8718 - val_loss: 0.3851\n",
            "Epoch 182/300\n",
            "\u001b[1m44/44\u001b[0m \u001b[32m━━━━━━━━━━━━━━━━━━━━\u001b[0m\u001b[37m\u001b[0m \u001b[1m0s\u001b[0m 10ms/step - accuracy: 0.8651 - loss: 0.3424 - val_accuracy: 0.8718 - val_loss: 0.4396\n",
            "Epoch 183/300\n",
            "\u001b[1m44/44\u001b[0m \u001b[32m━━━━━━━━━━━━━━━━━━━━\u001b[0m\u001b[37m\u001b[0m \u001b[1m0s\u001b[0m 10ms/step - accuracy: 0.8674 - loss: 0.3530 - val_accuracy: 0.8462 - val_loss: 0.4111\n",
            "Epoch 184/300\n",
            "\u001b[1m44/44\u001b[0m \u001b[32m━━━━━━━━━━━━━━━━━━━━\u001b[0m\u001b[37m\u001b[0m \u001b[1m0s\u001b[0m 10ms/step - accuracy: 0.8590 - loss: 0.3477 - val_accuracy: 0.8462 - val_loss: 0.4487\n",
            "Epoch 185/300\n",
            "\u001b[1m44/44\u001b[0m \u001b[32m━━━━━━━━━━━━━━━━━━━━\u001b[0m\u001b[37m\u001b[0m \u001b[1m0s\u001b[0m 10ms/step - accuracy: 0.8660 - loss: 0.3412 - val_accuracy: 0.8718 - val_loss: 0.3905\n",
            "Epoch 186/300\n",
            "\u001b[1m44/44\u001b[0m \u001b[32m━━━━━━━━━━━━━━━━━━━━\u001b[0m\u001b[37m\u001b[0m \u001b[1m0s\u001b[0m 10ms/step - accuracy: 0.8718 - loss: 0.3350 - val_accuracy: 0.8654 - val_loss: 0.3827\n",
            "Epoch 187/300\n",
            "\u001b[1m44/44\u001b[0m \u001b[32m━━━━━━━━━━━━━━━━━━━━\u001b[0m\u001b[37m\u001b[0m \u001b[1m0s\u001b[0m 10ms/step - accuracy: 0.8693 - loss: 0.3334 - val_accuracy: 0.8782 - val_loss: 0.3725\n",
            "Epoch 188/300\n",
            "\u001b[1m44/44\u001b[0m \u001b[32m━━━━━━━━━━━━━━━━━━━━\u001b[0m\u001b[37m\u001b[0m \u001b[1m0s\u001b[0m 10ms/step - accuracy: 0.8516 - loss: 0.3842 - val_accuracy: 0.8462 - val_loss: 0.3884\n",
            "Epoch 189/300\n",
            "\u001b[1m44/44\u001b[0m \u001b[32m━━━━━━━━━━━━━━━━━━━━\u001b[0m\u001b[37m\u001b[0m \u001b[1m0s\u001b[0m 11ms/step - accuracy: 0.8440 - loss: 0.3637 - val_accuracy: 0.8782 - val_loss: 0.3821\n",
            "Epoch 190/300\n",
            "\u001b[1m44/44\u001b[0m \u001b[32m━━━━━━━━━━━━━━━━━━━━\u001b[0m\u001b[37m\u001b[0m \u001b[1m0s\u001b[0m 11ms/step - accuracy: 0.8487 - loss: 0.3675 - val_accuracy: 0.8141 - val_loss: 0.5029\n",
            "Epoch 191/300\n",
            "\u001b[1m44/44\u001b[0m \u001b[32m━━━━━━━━━━━━━━━━━━━━\u001b[0m\u001b[37m\u001b[0m \u001b[1m1s\u001b[0m 12ms/step - accuracy: 0.8812 - loss: 0.3009 - val_accuracy: 0.8718 - val_loss: 0.3792\n",
            "Epoch 192/300\n",
            "\u001b[1m44/44\u001b[0m \u001b[32m━━━━━━━━━━━━━━━━━━━━\u001b[0m\u001b[37m\u001b[0m \u001b[1m0s\u001b[0m 10ms/step - accuracy: 0.8572 - loss: 0.3377 - val_accuracy: 0.8654 - val_loss: 0.3834\n",
            "Epoch 193/300\n",
            "\u001b[1m44/44\u001b[0m \u001b[32m━━━━━━━━━━━━━━━━━━━━\u001b[0m\u001b[37m\u001b[0m \u001b[1m0s\u001b[0m 10ms/step - accuracy: 0.8762 - loss: 0.3196 - val_accuracy: 0.8782 - val_loss: 0.3748\n",
            "Epoch 194/300\n",
            "\u001b[1m44/44\u001b[0m \u001b[32m━━━━━━━━━━━━━━━━━━━━\u001b[0m\u001b[37m\u001b[0m \u001b[1m0s\u001b[0m 10ms/step - accuracy: 0.8647 - loss: 0.3392 - val_accuracy: 0.8782 - val_loss: 0.3745\n",
            "Epoch 195/300\n",
            "\u001b[1m44/44\u001b[0m \u001b[32m━━━━━━━━━━━━━━━━━━━━\u001b[0m\u001b[37m\u001b[0m \u001b[1m0s\u001b[0m 11ms/step - accuracy: 0.8739 - loss: 0.3337 - val_accuracy: 0.8718 - val_loss: 0.3778\n",
            "Epoch 196/300\n",
            "\u001b[1m44/44\u001b[0m \u001b[32m━━━━━━━━━━━━━━━━━━━━\u001b[0m\u001b[37m\u001b[0m \u001b[1m0s\u001b[0m 10ms/step - accuracy: 0.8693 - loss: 0.3111 - val_accuracy: 0.8654 - val_loss: 0.4039\n",
            "Epoch 197/300\n",
            "\u001b[1m44/44\u001b[0m \u001b[32m━━━━━━━━━━━━━━━━━━━━\u001b[0m\u001b[37m\u001b[0m \u001b[1m0s\u001b[0m 10ms/step - accuracy: 0.8820 - loss: 0.3516 - val_accuracy: 0.8974 - val_loss: 0.3477\n",
            "Epoch 198/300\n",
            "\u001b[1m44/44\u001b[0m \u001b[32m━━━━━━━━━━━━━━━━━━━━\u001b[0m\u001b[37m\u001b[0m \u001b[1m0s\u001b[0m 10ms/step - accuracy: 0.8743 - loss: 0.3514 - val_accuracy: 0.8846 - val_loss: 0.3523\n",
            "Epoch 199/300\n",
            "\u001b[1m44/44\u001b[0m \u001b[32m━━━━━━━━━━━━━━━━━━━━\u001b[0m\u001b[37m\u001b[0m \u001b[1m0s\u001b[0m 10ms/step - accuracy: 0.8726 - loss: 0.3198 - val_accuracy: 0.8397 - val_loss: 0.4518\n",
            "Epoch 200/300\n",
            "\u001b[1m44/44\u001b[0m \u001b[32m━━━━━━━━━━━━━━━━━━━━\u001b[0m\u001b[37m\u001b[0m \u001b[1m0s\u001b[0m 10ms/step - accuracy: 0.8716 - loss: 0.3540 - val_accuracy: 0.8397 - val_loss: 0.4924\n",
            "Epoch 201/300\n",
            "\u001b[1m44/44\u001b[0m \u001b[32m━━━━━━━━━━━━━━━━━━━━\u001b[0m\u001b[37m\u001b[0m \u001b[1m0s\u001b[0m 10ms/step - accuracy: 0.8614 - loss: 0.3507 - val_accuracy: 0.8590 - val_loss: 0.4027\n",
            "Epoch 202/300\n",
            "\u001b[1m44/44\u001b[0m \u001b[32m━━━━━━━━━━━━━━━━━━━━\u001b[0m\u001b[37m\u001b[0m \u001b[1m0s\u001b[0m 10ms/step - accuracy: 0.8699 - loss: 0.3300 - val_accuracy: 0.8718 - val_loss: 0.3882\n",
            "Epoch 203/300\n",
            "\u001b[1m44/44\u001b[0m \u001b[32m━━━━━━━━━━━━━━━━━━━━\u001b[0m\u001b[37m\u001b[0m \u001b[1m0s\u001b[0m 10ms/step - accuracy: 0.8830 - loss: 0.3189 - val_accuracy: 0.8462 - val_loss: 0.4719\n",
            "Epoch 204/300\n",
            "\u001b[1m44/44\u001b[0m \u001b[32m━━━━━━━━━━━━━━━━━━━━\u001b[0m\u001b[37m\u001b[0m \u001b[1m0s\u001b[0m 10ms/step - accuracy: 0.8622 - loss: 0.3326 - val_accuracy: 0.8462 - val_loss: 0.4229\n",
            "Epoch 205/300\n",
            "\u001b[1m44/44\u001b[0m \u001b[32m━━━━━━━━━━━━━━━━━━━━\u001b[0m\u001b[37m\u001b[0m \u001b[1m0s\u001b[0m 10ms/step - accuracy: 0.8726 - loss: 0.3126 - val_accuracy: 0.8654 - val_loss: 0.4681\n",
            "Epoch 206/300\n",
            "\u001b[1m44/44\u001b[0m \u001b[32m━━━━━━━━━━━━━━━━━━━━\u001b[0m\u001b[37m\u001b[0m \u001b[1m0s\u001b[0m 10ms/step - accuracy: 0.8710 - loss: 0.3594 - val_accuracy: 0.8718 - val_loss: 0.3588\n",
            "Epoch 207/300\n",
            "\u001b[1m44/44\u001b[0m \u001b[32m━━━━━━━━━━━━━━━━━━━━\u001b[0m\u001b[37m\u001b[0m \u001b[1m0s\u001b[0m 10ms/step - accuracy: 0.8764 - loss: 0.3461 - val_accuracy: 0.8654 - val_loss: 0.3270\n",
            "Epoch 208/300\n",
            "\u001b[1m44/44\u001b[0m \u001b[32m━━━━━━━━━━━━━━━━━━━━\u001b[0m\u001b[37m\u001b[0m \u001b[1m0s\u001b[0m 10ms/step - accuracy: 0.8700 - loss: 0.3254 - val_accuracy: 0.8397 - val_loss: 0.4650\n",
            "Epoch 209/300\n",
            "\u001b[1m44/44\u001b[0m \u001b[32m━━━━━━━━━━━━━━━━━━━━\u001b[0m\u001b[37m\u001b[0m \u001b[1m0s\u001b[0m 10ms/step - accuracy: 0.8759 - loss: 0.3555 - val_accuracy: 0.8782 - val_loss: 0.3658\n",
            "Epoch 210/300\n",
            "\u001b[1m44/44\u001b[0m \u001b[32m━━━━━━━━━━━━━━━━━━━━\u001b[0m\u001b[37m\u001b[0m \u001b[1m1s\u001b[0m 11ms/step - accuracy: 0.8772 - loss: 0.3595 - val_accuracy: 0.8654 - val_loss: 0.3594\n",
            "Epoch 211/300\n",
            "\u001b[1m44/44\u001b[0m \u001b[32m━━━━━━━━━━━━━━━━━━━━\u001b[0m\u001b[37m\u001b[0m \u001b[1m0s\u001b[0m 10ms/step - accuracy: 0.8614 - loss: 0.3529 - val_accuracy: 0.8526 - val_loss: 0.4034\n",
            "Epoch 212/300\n",
            "\u001b[1m44/44\u001b[0m \u001b[32m━━━━━━━━━━━━━━━━━━━━\u001b[0m\u001b[37m\u001b[0m \u001b[1m0s\u001b[0m 10ms/step - accuracy: 0.8819 - loss: 0.3149 - val_accuracy: 0.8718 - val_loss: 0.3941\n",
            "Epoch 213/300\n",
            "\u001b[1m44/44\u001b[0m \u001b[32m━━━━━━━━━━━━━━━━━━━━\u001b[0m\u001b[37m\u001b[0m \u001b[1m0s\u001b[0m 10ms/step - accuracy: 0.8972 - loss: 0.3053 - val_accuracy: 0.8782 - val_loss: 0.3866\n",
            "Epoch 214/300\n",
            "\u001b[1m44/44\u001b[0m \u001b[32m━━━━━━━━━━━━━━━━━━━━\u001b[0m\u001b[37m\u001b[0m \u001b[1m0s\u001b[0m 10ms/step - accuracy: 0.8771 - loss: 0.3030 - val_accuracy: 0.8718 - val_loss: 0.3647\n",
            "Epoch 215/300\n",
            "\u001b[1m44/44\u001b[0m \u001b[32m━━━━━━━━━━━━━━━━━━━━\u001b[0m\u001b[37m\u001b[0m \u001b[1m1s\u001b[0m 11ms/step - accuracy: 0.8813 - loss: 0.3073 - val_accuracy: 0.8718 - val_loss: 0.3816\n",
            "Epoch 216/300\n",
            "\u001b[1m44/44\u001b[0m \u001b[32m━━━━━━━━━━━━━━━━━━━━\u001b[0m\u001b[37m\u001b[0m \u001b[1m0s\u001b[0m 10ms/step - accuracy: 0.8704 - loss: 0.3529 - val_accuracy: 0.8782 - val_loss: 0.3655\n",
            "Epoch 217/300\n",
            "\u001b[1m44/44\u001b[0m \u001b[32m━━━━━━━━━━━━━━━━━━━━\u001b[0m\u001b[37m\u001b[0m \u001b[1m0s\u001b[0m 10ms/step - accuracy: 0.8662 - loss: 0.3416 - val_accuracy: 0.8846 - val_loss: 0.3719\n",
            "Epoch 218/300\n",
            "\u001b[1m44/44\u001b[0m \u001b[32m━━━━━━━━━━━━━━━━━━━━\u001b[0m\u001b[37m\u001b[0m \u001b[1m0s\u001b[0m 11ms/step - accuracy: 0.8716 - loss: 0.3484 - val_accuracy: 0.8654 - val_loss: 0.4225\n",
            "Epoch 219/300\n",
            "\u001b[1m44/44\u001b[0m \u001b[32m━━━━━━━━━━━━━━━━━━━━\u001b[0m\u001b[37m\u001b[0m \u001b[1m0s\u001b[0m 10ms/step - accuracy: 0.8736 - loss: 0.3151 - val_accuracy: 0.9038 - val_loss: 0.3093\n",
            "Epoch 220/300\n",
            "\u001b[1m44/44\u001b[0m \u001b[32m━━━━━━━━━━━━━━━━━━━━\u001b[0m\u001b[37m\u001b[0m \u001b[1m0s\u001b[0m 10ms/step - accuracy: 0.8793 - loss: 0.3159 - val_accuracy: 0.8846 - val_loss: 0.3465\n",
            "Epoch 221/300\n",
            "\u001b[1m44/44\u001b[0m \u001b[32m━━━━━━━━━━━━━━━━━━━━\u001b[0m\u001b[37m\u001b[0m \u001b[1m0s\u001b[0m 10ms/step - accuracy: 0.8733 - loss: 0.3221 - val_accuracy: 0.8782 - val_loss: 0.3588\n",
            "Epoch 222/300\n",
            "\u001b[1m44/44\u001b[0m \u001b[32m━━━━━━━━━━━━━━━━━━━━\u001b[0m\u001b[37m\u001b[0m \u001b[1m0s\u001b[0m 10ms/step - accuracy: 0.8847 - loss: 0.3221 - val_accuracy: 0.8782 - val_loss: 0.3467\n",
            "Epoch 223/300\n",
            "\u001b[1m44/44\u001b[0m \u001b[32m━━━━━━━━━━━━━━━━━━━━\u001b[0m\u001b[37m\u001b[0m \u001b[1m0s\u001b[0m 10ms/step - accuracy: 0.8643 - loss: 0.3616 - val_accuracy: 0.8590 - val_loss: 0.4676\n",
            "Epoch 224/300\n",
            "\u001b[1m44/44\u001b[0m \u001b[32m━━━━━━━━━━━━━━━━━━━━\u001b[0m\u001b[37m\u001b[0m \u001b[1m0s\u001b[0m 10ms/step - accuracy: 0.8804 - loss: 0.3260 - val_accuracy: 0.8397 - val_loss: 0.4819\n",
            "Epoch 225/300\n",
            "\u001b[1m44/44\u001b[0m \u001b[32m━━━━━━━━━━━━━━━━━━━━\u001b[0m\u001b[37m\u001b[0m \u001b[1m1s\u001b[0m 11ms/step - accuracy: 0.8653 - loss: 0.3428 - val_accuracy: 0.8526 - val_loss: 0.4294\n",
            "Epoch 226/300\n",
            "\u001b[1m44/44\u001b[0m \u001b[32m━━━━━━━━━━━━━━━━━━━━\u001b[0m\u001b[37m\u001b[0m \u001b[1m0s\u001b[0m 10ms/step - accuracy: 0.8744 - loss: 0.3346 - val_accuracy: 0.8526 - val_loss: 0.3795\n",
            "Epoch 227/300\n",
            "\u001b[1m44/44\u001b[0m \u001b[32m━━━━━━━━━━━━━━━━━━━━\u001b[0m\u001b[37m\u001b[0m \u001b[1m0s\u001b[0m 10ms/step - accuracy: 0.8709 - loss: 0.3144 - val_accuracy: 0.8782 - val_loss: 0.3675\n",
            "Epoch 228/300\n",
            "\u001b[1m44/44\u001b[0m \u001b[32m━━━━━━━━━━━━━━━━━━━━\u001b[0m\u001b[37m\u001b[0m \u001b[1m0s\u001b[0m 11ms/step - accuracy: 0.8717 - loss: 0.3167 - val_accuracy: 0.8718 - val_loss: 0.3962\n",
            "Epoch 229/300\n",
            "\u001b[1m44/44\u001b[0m \u001b[32m━━━━━━━━━━━━━━━━━━━━\u001b[0m\u001b[37m\u001b[0m \u001b[1m0s\u001b[0m 10ms/step - accuracy: 0.8884 - loss: 0.2913 - val_accuracy: 0.8590 - val_loss: 0.3783\n",
            "Epoch 230/300\n",
            "\u001b[1m44/44\u001b[0m \u001b[32m━━━━━━━━━━━━━━━━━━━━\u001b[0m\u001b[37m\u001b[0m \u001b[1m0s\u001b[0m 10ms/step - accuracy: 0.8766 - loss: 0.3184 - val_accuracy: 0.8718 - val_loss: 0.3613\n",
            "Epoch 231/300\n",
            "\u001b[1m44/44\u001b[0m \u001b[32m━━━━━━━━━━━━━━━━━━━━\u001b[0m\u001b[37m\u001b[0m \u001b[1m0s\u001b[0m 10ms/step - accuracy: 0.8457 - loss: 0.3626 - val_accuracy: 0.8846 - val_loss: 0.3369\n",
            "Epoch 232/300\n",
            "\u001b[1m44/44\u001b[0m \u001b[32m━━━━━━━━━━━━━━━━━━━━\u001b[0m\u001b[37m\u001b[0m \u001b[1m0s\u001b[0m 11ms/step - accuracy: 0.8880 - loss: 0.2985 - val_accuracy: 0.9038 - val_loss: 0.3596\n",
            "Epoch 233/300\n",
            "\u001b[1m44/44\u001b[0m \u001b[32m━━━━━━━━━━━━━━━━━━━━\u001b[0m\u001b[37m\u001b[0m \u001b[1m0s\u001b[0m 10ms/step - accuracy: 0.8825 - loss: 0.2948 - val_accuracy: 0.8910 - val_loss: 0.3635\n",
            "Epoch 234/300\n",
            "\u001b[1m44/44\u001b[0m \u001b[32m━━━━━━━━━━━━━━━━━━━━\u001b[0m\u001b[37m\u001b[0m \u001b[1m0s\u001b[0m 10ms/step - accuracy: 0.8772 - loss: 0.3658 - val_accuracy: 0.8846 - val_loss: 0.3516\n",
            "Epoch 235/300\n",
            "\u001b[1m44/44\u001b[0m \u001b[32m━━━━━━━━━━━━━━━━━━━━\u001b[0m\u001b[37m\u001b[0m \u001b[1m0s\u001b[0m 10ms/step - accuracy: 0.8855 - loss: 0.2742 - val_accuracy: 0.8718 - val_loss: 0.3565\n",
            "Epoch 236/300\n",
            "\u001b[1m44/44\u001b[0m \u001b[32m━━━━━━━━━━━━━━━━━━━━\u001b[0m\u001b[37m\u001b[0m \u001b[1m0s\u001b[0m 10ms/step - accuracy: 0.8777 - loss: 0.3255 - val_accuracy: 0.8718 - val_loss: 0.3227\n",
            "Epoch 237/300\n",
            "\u001b[1m44/44\u001b[0m \u001b[32m━━━━━━━━━━━━━━━━━━━━\u001b[0m\u001b[37m\u001b[0m \u001b[1m0s\u001b[0m 10ms/step - accuracy: 0.8727 - loss: 0.3296 - val_accuracy: 0.8782 - val_loss: 0.3860\n",
            "Epoch 238/300\n",
            "\u001b[1m44/44\u001b[0m \u001b[32m━━━━━━━━━━━━━━━━━━━━\u001b[0m\u001b[37m\u001b[0m \u001b[1m0s\u001b[0m 10ms/step - accuracy: 0.8594 - loss: 0.3370 - val_accuracy: 0.8269 - val_loss: 0.4460\n",
            "Epoch 239/300\n",
            "\u001b[1m44/44\u001b[0m \u001b[32m━━━━━━━━━━━━━━━━━━━━\u001b[0m\u001b[37m\u001b[0m \u001b[1m0s\u001b[0m 10ms/step - accuracy: 0.8761 - loss: 0.3580 - val_accuracy: 0.8397 - val_loss: 0.4441\n",
            "Epoch 240/300\n",
            "\u001b[1m44/44\u001b[0m \u001b[32m━━━━━━━━━━━━━━━━━━━━\u001b[0m\u001b[37m\u001b[0m \u001b[1m0s\u001b[0m 10ms/step - accuracy: 0.8722 - loss: 0.3133 - val_accuracy: 0.8397 - val_loss: 0.4114\n",
            "Epoch 241/300\n",
            "\u001b[1m44/44\u001b[0m \u001b[32m━━━━━━━━━━━━━━━━━━━━\u001b[0m\u001b[37m\u001b[0m \u001b[1m0s\u001b[0m 10ms/step - accuracy: 0.8909 - loss: 0.3021 - val_accuracy: 0.8718 - val_loss: 0.3745\n",
            "Epoch 242/300\n",
            "\u001b[1m44/44\u001b[0m \u001b[32m━━━━━━━━━━━━━━━━━━━━\u001b[0m\u001b[37m\u001b[0m \u001b[1m0s\u001b[0m 11ms/step - accuracy: 0.8926 - loss: 0.2841 - val_accuracy: 0.8718 - val_loss: 0.3803\n",
            "Epoch 243/300\n",
            "\u001b[1m44/44\u001b[0m \u001b[32m━━━━━━━━━━━━━━━━━━━━\u001b[0m\u001b[37m\u001b[0m \u001b[1m0s\u001b[0m 10ms/step - accuracy: 0.8773 - loss: 0.3107 - val_accuracy: 0.8526 - val_loss: 0.3695\n",
            "Epoch 244/300\n",
            "\u001b[1m44/44\u001b[0m \u001b[32m━━━━━━━━━━━━━━━━━━━━\u001b[0m\u001b[37m\u001b[0m \u001b[1m0s\u001b[0m 10ms/step - accuracy: 0.8825 - loss: 0.3053 - val_accuracy: 0.8205 - val_loss: 0.5214\n",
            "Epoch 245/300\n",
            "\u001b[1m44/44\u001b[0m \u001b[32m━━━━━━━━━━━━━━━━━━━━\u001b[0m\u001b[37m\u001b[0m \u001b[1m0s\u001b[0m 10ms/step - accuracy: 0.8776 - loss: 0.3221 - val_accuracy: 0.8654 - val_loss: 0.4243\n",
            "Epoch 246/300\n",
            "\u001b[1m44/44\u001b[0m \u001b[32m━━━━━━━━━━━━━━━━━━━━\u001b[0m\u001b[37m\u001b[0m \u001b[1m0s\u001b[0m 10ms/step - accuracy: 0.8853 - loss: 0.2760 - val_accuracy: 0.8654 - val_loss: 0.3628\n",
            "Epoch 247/300\n",
            "\u001b[1m44/44\u001b[0m \u001b[32m━━━━━━━━━━━━━━━━━━━━\u001b[0m\u001b[37m\u001b[0m \u001b[1m0s\u001b[0m 10ms/step - accuracy: 0.8842 - loss: 0.3102 - val_accuracy: 0.8782 - val_loss: 0.3548\n",
            "Epoch 248/300\n",
            "\u001b[1m44/44\u001b[0m \u001b[32m━━━━━━━━━━━━━━━━━━━━\u001b[0m\u001b[37m\u001b[0m \u001b[1m0s\u001b[0m 10ms/step - accuracy: 0.8783 - loss: 0.3045 - val_accuracy: 0.8590 - val_loss: 0.4115\n",
            "Epoch 249/300\n",
            "\u001b[1m44/44\u001b[0m \u001b[32m━━━━━━━━━━━━━━━━━━━━\u001b[0m\u001b[37m\u001b[0m \u001b[1m0s\u001b[0m 10ms/step - accuracy: 0.8858 - loss: 0.2963 - val_accuracy: 0.8846 - val_loss: 0.3754\n",
            "Epoch 250/300\n",
            "\u001b[1m44/44\u001b[0m \u001b[32m━━━━━━━━━━━━━━━━━━━━\u001b[0m\u001b[37m\u001b[0m \u001b[1m0s\u001b[0m 10ms/step - accuracy: 0.8866 - loss: 0.3089 - val_accuracy: 0.8654 - val_loss: 0.3478\n",
            "Epoch 251/300\n",
            "\u001b[1m44/44\u001b[0m \u001b[32m━━━━━━━━━━━━━━━━━━━━\u001b[0m\u001b[37m\u001b[0m \u001b[1m0s\u001b[0m 10ms/step - accuracy: 0.8691 - loss: 0.3431 - val_accuracy: 0.8654 - val_loss: 0.4061\n",
            "Epoch 252/300\n",
            "\u001b[1m44/44\u001b[0m \u001b[32m━━━━━━━━━━━━━━━━━━━━\u001b[0m\u001b[37m\u001b[0m \u001b[1m0s\u001b[0m 10ms/step - accuracy: 0.8780 - loss: 0.3216 - val_accuracy: 0.8654 - val_loss: 0.3725\n",
            "Epoch 253/300\n",
            "\u001b[1m44/44\u001b[0m \u001b[32m━━━━━━━━━━━━━━━━━━━━\u001b[0m\u001b[37m\u001b[0m \u001b[1m0s\u001b[0m 10ms/step - accuracy: 0.8797 - loss: 0.3130 - val_accuracy: 0.9038 - val_loss: 0.3516\n",
            "Epoch 254/300\n",
            "\u001b[1m44/44\u001b[0m \u001b[32m━━━━━━━━━━━━━━━━━━━━\u001b[0m\u001b[37m\u001b[0m \u001b[1m0s\u001b[0m 10ms/step - accuracy: 0.9013 - loss: 0.2714 - val_accuracy: 0.8782 - val_loss: 0.4231\n",
            "Epoch 255/300\n",
            "\u001b[1m44/44\u001b[0m \u001b[32m━━━━━━━━━━━━━━━━━━━━\u001b[0m\u001b[37m\u001b[0m \u001b[1m0s\u001b[0m 11ms/step - accuracy: 0.8684 - loss: 0.3271 - val_accuracy: 0.9038 - val_loss: 0.3578\n",
            "Epoch 256/300\n",
            "\u001b[1m44/44\u001b[0m \u001b[32m━━━━━━━━━━━━━━━━━━━━\u001b[0m\u001b[37m\u001b[0m \u001b[1m0s\u001b[0m 10ms/step - accuracy: 0.8770 - loss: 0.3193 - val_accuracy: 0.8846 - val_loss: 0.3466\n",
            "Epoch 257/300\n",
            "\u001b[1m44/44\u001b[0m \u001b[32m━━━━━━━━━━━━━━━━━━━━\u001b[0m\u001b[37m\u001b[0m \u001b[1m0s\u001b[0m 10ms/step - accuracy: 0.8879 - loss: 0.2960 - val_accuracy: 0.8654 - val_loss: 0.4073\n",
            "Epoch 258/300\n",
            "\u001b[1m44/44\u001b[0m \u001b[32m━━━━━━━━━━━━━━━━━━━━\u001b[0m\u001b[37m\u001b[0m \u001b[1m0s\u001b[0m 11ms/step - accuracy: 0.8758 - loss: 0.3137 - val_accuracy: 0.8846 - val_loss: 0.3285\n",
            "Epoch 259/300\n",
            "\u001b[1m44/44\u001b[0m \u001b[32m━━━━━━━━━━━━━━━━━━━━\u001b[0m\u001b[37m\u001b[0m \u001b[1m0s\u001b[0m 10ms/step - accuracy: 0.8789 - loss: 0.2959 - val_accuracy: 0.8590 - val_loss: 0.3912\n",
            "Epoch 260/300\n",
            "\u001b[1m44/44\u001b[0m \u001b[32m━━━━━━━━━━━━━━━━━━━━\u001b[0m\u001b[37m\u001b[0m \u001b[1m0s\u001b[0m 10ms/step - accuracy: 0.8778 - loss: 0.2933 - val_accuracy: 0.8269 - val_loss: 0.4918\n",
            "Epoch 261/300\n",
            "\u001b[1m44/44\u001b[0m \u001b[32m━━━━━━━━━━━━━━━━━━━━\u001b[0m\u001b[37m\u001b[0m \u001b[1m0s\u001b[0m 10ms/step - accuracy: 0.8795 - loss: 0.2739 - val_accuracy: 0.8333 - val_loss: 0.5143\n",
            "Epoch 262/300\n",
            "\u001b[1m44/44\u001b[0m \u001b[32m━━━━━━━━━━━━━━━━━━━━\u001b[0m\u001b[37m\u001b[0m \u001b[1m1s\u001b[0m 13ms/step - accuracy: 0.8799 - loss: 0.3271 - val_accuracy: 0.8590 - val_loss: 0.3776\n",
            "Epoch 263/300\n",
            "\u001b[1m44/44\u001b[0m \u001b[32m━━━━━━━━━━━━━━━━━━━━\u001b[0m\u001b[37m\u001b[0m \u001b[1m1s\u001b[0m 13ms/step - accuracy: 0.8730 - loss: 0.3631 - val_accuracy: 0.8846 - val_loss: 0.3558\n",
            "Epoch 264/300\n",
            "\u001b[1m44/44\u001b[0m \u001b[32m━━━━━━━━━━━━━━━━━━━━\u001b[0m\u001b[37m\u001b[0m \u001b[1m1s\u001b[0m 14ms/step - accuracy: 0.8824 - loss: 0.3156 - val_accuracy: 0.8974 - val_loss: 0.3956\n",
            "Epoch 265/300\n",
            "\u001b[1m44/44\u001b[0m \u001b[32m━━━━━━━━━━━━━━━━━━━━\u001b[0m\u001b[37m\u001b[0m \u001b[1m1s\u001b[0m 14ms/step - accuracy: 0.8792 - loss: 0.2989 - val_accuracy: 0.8397 - val_loss: 0.4984\n",
            "Epoch 266/300\n",
            "\u001b[1m44/44\u001b[0m \u001b[32m━━━━━━━━━━━━━━━━━━━━\u001b[0m\u001b[37m\u001b[0m \u001b[1m1s\u001b[0m 14ms/step - accuracy: 0.8880 - loss: 0.2875 - val_accuracy: 0.8333 - val_loss: 0.4310\n",
            "Epoch 267/300\n",
            "\u001b[1m44/44\u001b[0m \u001b[32m━━━━━━━━━━━━━━━━━━━━\u001b[0m\u001b[37m\u001b[0m \u001b[1m1s\u001b[0m 14ms/step - accuracy: 0.8851 - loss: 0.3336 - val_accuracy: 0.8526 - val_loss: 0.4519\n",
            "Epoch 268/300\n",
            "\u001b[1m44/44\u001b[0m \u001b[32m━━━━━━━━━━━━━━━━━━━━\u001b[0m\u001b[37m\u001b[0m \u001b[1m1s\u001b[0m 14ms/step - accuracy: 0.8630 - loss: 0.3212 - val_accuracy: 0.8654 - val_loss: 0.3790\n",
            "Epoch 269/300\n",
            "\u001b[1m44/44\u001b[0m \u001b[32m━━━━━━━━━━━━━━━━━━━━\u001b[0m\u001b[37m\u001b[0m \u001b[1m1s\u001b[0m 13ms/step - accuracy: 0.8960 - loss: 0.2771 - val_accuracy: 0.8718 - val_loss: 0.3879\n",
            "Epoch 270/300\n",
            "\u001b[1m44/44\u001b[0m \u001b[32m━━━━━━━━━━━━━━━━━━━━\u001b[0m\u001b[37m\u001b[0m \u001b[1m1s\u001b[0m 14ms/step - accuracy: 0.8881 - loss: 0.3072 - val_accuracy: 0.8654 - val_loss: 0.4010\n",
            "Epoch 271/300\n",
            "\u001b[1m44/44\u001b[0m \u001b[32m━━━━━━━━━━━━━━━━━━━━\u001b[0m\u001b[37m\u001b[0m \u001b[1m1s\u001b[0m 14ms/step - accuracy: 0.8817 - loss: 0.3057 - val_accuracy: 0.8654 - val_loss: 0.4093\n",
            "Epoch 272/300\n",
            "\u001b[1m44/44\u001b[0m \u001b[32m━━━━━━━━━━━━━━━━━━━━\u001b[0m\u001b[37m\u001b[0m \u001b[1m1s\u001b[0m 14ms/step - accuracy: 0.8915 - loss: 0.2645 - val_accuracy: 0.8654 - val_loss: 0.4019\n",
            "Epoch 273/300\n",
            "\u001b[1m44/44\u001b[0m \u001b[32m━━━━━━━━━━━━━━━━━━━━\u001b[0m\u001b[37m\u001b[0m \u001b[1m1s\u001b[0m 14ms/step - accuracy: 0.8902 - loss: 0.3001 - val_accuracy: 0.8718 - val_loss: 0.4512\n",
            "Epoch 274/300\n",
            "\u001b[1m44/44\u001b[0m \u001b[32m━━━━━━━━━━━━━━━━━━━━\u001b[0m\u001b[37m\u001b[0m \u001b[1m1s\u001b[0m 13ms/step - accuracy: 0.9093 - loss: 0.2789 - val_accuracy: 0.8654 - val_loss: 0.4579\n",
            "Epoch 275/300\n",
            "\u001b[1m44/44\u001b[0m \u001b[32m━━━━━━━━━━━━━━━━━━━━\u001b[0m\u001b[37m\u001b[0m \u001b[1m1s\u001b[0m 13ms/step - accuracy: 0.8816 - loss: 0.3102 - val_accuracy: 0.8782 - val_loss: 0.4008\n",
            "Epoch 276/300\n",
            "\u001b[1m44/44\u001b[0m \u001b[32m━━━━━━━━━━━━━━━━━━━━\u001b[0m\u001b[37m\u001b[0m \u001b[1m1s\u001b[0m 13ms/step - accuracy: 0.8809 - loss: 0.2992 - val_accuracy: 0.8782 - val_loss: 0.3727\n",
            "Epoch 277/300\n",
            "\u001b[1m44/44\u001b[0m \u001b[32m━━━━━━━━━━━━━━━━━━━━\u001b[0m\u001b[37m\u001b[0m \u001b[1m1s\u001b[0m 13ms/step - accuracy: 0.8662 - loss: 0.3180 - val_accuracy: 0.8846 - val_loss: 0.3813\n",
            "Epoch 278/300\n",
            "\u001b[1m44/44\u001b[0m \u001b[32m━━━━━━━━━━━━━━━━━━━━\u001b[0m\u001b[37m\u001b[0m \u001b[1m1s\u001b[0m 13ms/step - accuracy: 0.8878 - loss: 0.2800 - val_accuracy: 0.8846 - val_loss: 0.3753\n",
            "Epoch 279/300\n",
            "\u001b[1m44/44\u001b[0m \u001b[32m━━━━━━━━━━━━━━━━━━━━\u001b[0m\u001b[37m\u001b[0m \u001b[1m1s\u001b[0m 14ms/step - accuracy: 0.8905 - loss: 0.2876 - val_accuracy: 0.8718 - val_loss: 0.3868\n",
            "Epoch 280/300\n",
            "\u001b[1m44/44\u001b[0m \u001b[32m━━━━━━━━━━━━━━━━━━━━\u001b[0m\u001b[37m\u001b[0m \u001b[1m1s\u001b[0m 13ms/step - accuracy: 0.8966 - loss: 0.2794 - val_accuracy: 0.8590 - val_loss: 0.4255\n",
            "Epoch 281/300\n",
            "\u001b[1m44/44\u001b[0m \u001b[32m━━━━━━━━━━━━━━━━━━━━\u001b[0m\u001b[37m\u001b[0m \u001b[1m1s\u001b[0m 14ms/step - accuracy: 0.8761 - loss: 0.3020 - val_accuracy: 0.8397 - val_loss: 0.5121\n",
            "Epoch 282/300\n",
            "\u001b[1m44/44\u001b[0m \u001b[32m━━━━━━━━━━━━━━━━━━━━\u001b[0m\u001b[37m\u001b[0m \u001b[1m1s\u001b[0m 14ms/step - accuracy: 0.8839 - loss: 0.2830 - val_accuracy: 0.8974 - val_loss: 0.3630\n",
            "Epoch 283/300\n",
            "\u001b[1m44/44\u001b[0m \u001b[32m━━━━━━━━━━━━━━━━━━━━\u001b[0m\u001b[37m\u001b[0m \u001b[1m1s\u001b[0m 13ms/step - accuracy: 0.8826 - loss: 0.3021 - val_accuracy: 0.8974 - val_loss: 0.4000\n",
            "Epoch 284/300\n",
            "\u001b[1m44/44\u001b[0m \u001b[32m━━━━━━━━━━━━━━━━━━━━\u001b[0m\u001b[37m\u001b[0m \u001b[1m1s\u001b[0m 14ms/step - accuracy: 0.8933 - loss: 0.2744 - val_accuracy: 0.8718 - val_loss: 0.4120\n",
            "Epoch 285/300\n",
            "\u001b[1m44/44\u001b[0m \u001b[32m━━━━━━━━━━━━━━━━━━━━\u001b[0m\u001b[37m\u001b[0m \u001b[1m1s\u001b[0m 13ms/step - accuracy: 0.8915 - loss: 0.2766 - val_accuracy: 0.8718 - val_loss: 0.4326\n",
            "Epoch 286/300\n",
            "\u001b[1m44/44\u001b[0m \u001b[32m━━━━━━━━━━━━━━━━━━━━\u001b[0m\u001b[37m\u001b[0m \u001b[1m1s\u001b[0m 13ms/step - accuracy: 0.8950 - loss: 0.2800 - val_accuracy: 0.8910 - val_loss: 0.3919\n",
            "Epoch 287/300\n",
            "\u001b[1m44/44\u001b[0m \u001b[32m━━━━━━━━━━━━━━━━━━━━\u001b[0m\u001b[37m\u001b[0m \u001b[1m1s\u001b[0m 14ms/step - accuracy: 0.8859 - loss: 0.2879 - val_accuracy: 0.8974 - val_loss: 0.3661\n",
            "Epoch 288/300\n",
            "\u001b[1m44/44\u001b[0m \u001b[32m━━━━━━━━━━━━━━━━━━━━\u001b[0m\u001b[37m\u001b[0m \u001b[1m1s\u001b[0m 13ms/step - accuracy: 0.8856 - loss: 0.3153 - val_accuracy: 0.8846 - val_loss: 0.3726\n",
            "Epoch 289/300\n",
            "\u001b[1m44/44\u001b[0m \u001b[32m━━━━━━━━━━━━━━━━━━━━\u001b[0m\u001b[37m\u001b[0m \u001b[1m1s\u001b[0m 13ms/step - accuracy: 0.8708 - loss: 0.3170 - val_accuracy: 0.8910 - val_loss: 0.4040\n",
            "Epoch 290/300\n",
            "\u001b[1m44/44\u001b[0m \u001b[32m━━━━━━━━━━━━━━━━━━━━\u001b[0m\u001b[37m\u001b[0m \u001b[1m1s\u001b[0m 13ms/step - accuracy: 0.8980 - loss: 0.2842 - val_accuracy: 0.8910 - val_loss: 0.3571\n",
            "Epoch 291/300\n",
            "\u001b[1m44/44\u001b[0m \u001b[32m━━━━━━━━━━━━━━━━━━━━\u001b[0m\u001b[37m\u001b[0m \u001b[1m1s\u001b[0m 14ms/step - accuracy: 0.8983 - loss: 0.2739 - val_accuracy: 0.8782 - val_loss: 0.4686\n",
            "Epoch 292/300\n",
            "\u001b[1m44/44\u001b[0m \u001b[32m━━━━━━━━━━━━━━━━━━━━\u001b[0m\u001b[37m\u001b[0m \u001b[1m1s\u001b[0m 14ms/step - accuracy: 0.8943 - loss: 0.2862 - val_accuracy: 0.8590 - val_loss: 0.4103\n",
            "Epoch 293/300\n",
            "\u001b[1m44/44\u001b[0m \u001b[32m━━━━━━━━━━━━━━━━━━━━\u001b[0m\u001b[37m\u001b[0m \u001b[1m1s\u001b[0m 13ms/step - accuracy: 0.8888 - loss: 0.3014 - val_accuracy: 0.8718 - val_loss: 0.4066\n",
            "Epoch 294/300\n",
            "\u001b[1m44/44\u001b[0m \u001b[32m━━━━━━━━━━━━━━━━━━━━\u001b[0m\u001b[37m\u001b[0m \u001b[1m1s\u001b[0m 15ms/step - accuracy: 0.8854 - loss: 0.2843 - val_accuracy: 0.8846 - val_loss: 0.3373\n",
            "Epoch 295/300\n",
            "\u001b[1m44/44\u001b[0m \u001b[32m━━━━━━━━━━━━━━━━━━━━\u001b[0m\u001b[37m\u001b[0m \u001b[1m1s\u001b[0m 14ms/step - accuracy: 0.8793 - loss: 0.3018 - val_accuracy: 0.8782 - val_loss: 0.3703\n",
            "Epoch 296/300\n",
            "\u001b[1m44/44\u001b[0m \u001b[32m━━━━━━━━━━━━━━━━━━━━\u001b[0m\u001b[37m\u001b[0m \u001b[1m1s\u001b[0m 14ms/step - accuracy: 0.8982 - loss: 0.2739 - val_accuracy: 0.8846 - val_loss: 0.3488\n",
            "Epoch 297/300\n",
            "\u001b[1m44/44\u001b[0m \u001b[32m━━━━━━━━━━━━━━━━━━━━\u001b[0m\u001b[37m\u001b[0m \u001b[1m1s\u001b[0m 13ms/step - accuracy: 0.9037 - loss: 0.2923 - val_accuracy: 0.8526 - val_loss: 0.4624\n",
            "Epoch 298/300\n",
            "\u001b[1m44/44\u001b[0m \u001b[32m━━━━━━━━━━━━━━━━━━━━\u001b[0m\u001b[37m\u001b[0m \u001b[1m1s\u001b[0m 14ms/step - accuracy: 0.9038 - loss: 0.2677 - val_accuracy: 0.9103 - val_loss: 0.3481\n",
            "Epoch 299/300\n",
            "\u001b[1m44/44\u001b[0m \u001b[32m━━━━━━━━━━━━━━━━━━━━\u001b[0m\u001b[37m\u001b[0m \u001b[1m1s\u001b[0m 13ms/step - accuracy: 0.8822 - loss: 0.3136 - val_accuracy: 0.8974 - val_loss: 0.3413\n",
            "Epoch 300/300\n",
            "\u001b[1m44/44\u001b[0m \u001b[32m━━━━━━━━━━━━━━━━━━━━\u001b[0m\u001b[37m\u001b[0m \u001b[1m1s\u001b[0m 14ms/step - accuracy: 0.8907 - loss: 0.2755 - val_accuracy: 0.8782 - val_loss: 0.3263\n"
          ]
        }
      ],
      "source": [
        "history_ANN=model_ANN.fit(X_train, y_train, epochs=300, batch_size=32, validation_split=0.1)"
      ]
    },
    {
      "cell_type": "code",
      "execution_count": 17,
      "metadata": {
        "colab": {
          "base_uri": "https://localhost:8080/"
        },
        "id": "vq3eEjo_6oIV",
        "outputId": "6306453b-b8a6-48b5-f833-be71aaf381fc"
      },
      "outputs": [
        {
          "name": "stdout",
          "output_type": "stream",
          "text": [
            "\u001b[1m6/6\u001b[0m \u001b[32m━━━━━━━━━━━━━━━━━━━━\u001b[0m\u001b[37m\u001b[0m \u001b[1m0s\u001b[0m 33ms/step\n"
          ]
        }
      ],
      "source": [
        "y_pred=np.argmax(model_ANN.predict(X_test), axis=1)\n",
        "y_true=np.argmax(y_test, axis=1)"
      ]
    },
    {
      "cell_type": "code",
      "execution_count": 18,
      "metadata": {
        "colab": {
          "base_uri": "https://localhost:8080/"
        },
        "id": "xWiL2CMp7SEg",
        "outputId": "6e816a30-3acd-4701-f0d7-5d7a598cdddc"
      },
      "outputs": [
        {
          "name": "stdout",
          "output_type": "stream",
          "text": [
            "              precision    recall  f1-score   support\n",
            "\n",
            "  belly_pain       0.97      0.97      0.97        29\n",
            "     burping       1.00      0.80      0.89        15\n",
            "  discomfort       0.84      0.94      0.88        49\n",
            "      hungry       0.97      0.95      0.96        38\n",
            "       tired       0.90      0.86      0.88        43\n",
            "\n",
            "    accuracy                           0.91       174\n",
            "   macro avg       0.94      0.90      0.92       174\n",
            "weighted avg       0.92      0.91      0.91       174\n",
            "\n"
          ]
        }
      ],
      "source": [
        "print(classification_report(y_true, y_pred, target_names=le.classes_))"
      ]
    },
    {
      "cell_type": "code",
      "execution_count": 19,
      "metadata": {
        "colab": {
          "base_uri": "https://localhost:8080/",
          "height": 472
        },
        "id": "oU1dS6oRBKip",
        "outputId": "e99d1212-e3c0-4672-bd0e-d38cbe9d5a5b"
      },
      "outputs": [
        {
          "data": {
            "image/png": "[encoded data removed]",
            "text/plain": [
              "<Figure size 640x480 with 1 Axes>"
            ]
          },
          "metadata": {},
          "output_type": "display_data"
        }
      ],
      "source": [
        "plt.plot(history_ANN.history['loss'])\n",
        "plt.plot(history_ANN.history['val_loss'])\n",
        "plt.title('Model Loss')\n",
        "plt.ylabel('Loss')\n",
        "plt.xlabel('Epoch')\n",
        "plt.legend(['Train', 'Validation'], loc='upper left')\n",
        "plt.show()"
      ]
    },
    {
      "cell_type": "code",
      "execution_count": 20,
      "metadata": {
        "colab": {
          "base_uri": "https://localhost:8080/",
          "height": 564
        },
        "id": "ZvJ5IKUZO3NI",
        "outputId": "29ed32dc-f1b2-4583-ec81-c0d7794d6dfb"
      },
      "outputs": [
        {
          "data": {
            "image/png": "[encoded data removed]",
            "text/plain": [
              "<Figure size 800x600 with 2 Axes>"
            ]
          },
          "metadata": {},
          "output_type": "display_data"
        }
      ],
      "source": [
        "conf_matrix = confusion_matrix(y_true, y_pred)\n",
        "\n",
        "plt.figure(figsize=(8, 6))\n",
        "sns.heatmap(conf_matrix, annot=True, fmt='d', cmap='Blues', xticklabels=le.classes_, yticklabels=le.classes_)\n",
        "plt.title('Confusion Matrix')\n",
        "plt.xlabel('Predicted Label')\n",
        "plt.ylabel('True Label')\n",
        "plt.show()"
      ]
    },
    {
      "cell_type": "code",
      "execution_count": 21,
      "metadata": {
        "colab": {
          "base_uri": "https://localhost:8080/",
          "height": 736
        },
        "id": "tpz3a3-jRm2A",
        "outputId": "79898eec-2dc4-4be7-c7bb-e74983116baf"
      },
      "outputs": [
        {
          "name": "stdout",
          "output_type": "stream",
          "text": [
            "\u001b[1m6/6\u001b[0m \u001b[32m━━━━━━━━━━━━━━━━━━━━\u001b[0m\u001b[37m\u001b[0m \u001b[1m0s\u001b[0m 6ms/step \n"
          ]
        },
        {
          "data": {
            "image/png": "[encoded data removed]",
            "text/plain": [
              "<Figure size 1000x800 with 1 Axes>"
            ]
          },
          "metadata": {},
          "output_type": "display_data"
        }
      ],
      "source": [
        "y_test_bin = label_binarize(y_true, classes=np.arange(num_classes))\n",
        "y_pred_prob = model_ANN.predict(X_test)\n",
        "\n",
        "fpr = dict()\n",
        "tpr = dict()\n",
        "roc_auc = dict()\n",
        "for i in range(num_classes):\n",
        "    fpr[i], tpr[i], _ = roc_curve(y_test_bin[:, i], y_pred_prob[:, i])\n",
        "    roc_auc[i] = auc(fpr[i], tpr[i])\n",
        "\n",
        "plt.figure(figsize=(10, 8))\n",
        "for i in range(num_classes):\n",
        "    plt.plot(fpr[i], tpr[i], label='ROC of {0} (area = {1:0.2f})'\n",
        "                                   ''.format(le.classes_[i], roc_auc[i]))\n",
        "\n",
        "plt.plot([0, 1], [0, 1], 'k--')\n",
        "plt.xlim([0.0, 1.0])\n",
        "plt.ylim([0.0, 1.05])\n",
        "plt.xlabel('False Positive Rate')\n",
        "plt.ylabel('True Positive Rate')\n",
        "plt.title('Receiver Operating Characteristic (ROC) Curve')\n",
        "plt.legend(loc=\"lower right\")\n",
        "plt.show()"
      ]
    },
    {
      "cell_type": "code",
      "execution_count": 22,
      "metadata": {},
      "outputs": [
        {
          "name": "stderr",
          "output_type": "stream",
          "text": [
            "WARNING:absl:You are saving your model as an HDF5 file via `model.save()` or `keras.saving.save_model(model)`. This file format is considered legacy. We recommend using instead the native Keras format, e.g. `model.save('my_model.keras')` or `keras.saving.save_model(model, 'my_model.keras')`. \n"
          ]
        }
      ],
      "source": [
        "model_ANN.save('classifier_model.h5')\n",
        "model_ANN.save('classifier_model.keras')"
      ]
    }
  ],
  "metadata": {
    "accelerator": "GPU",
    "colab": {
      "gpuType": "T4",
      "provenance": []
    },
    "kernelspec": {
      "display_name": "waruds",
      "language": "python",
      "name": "python3"
    },
    "language_info": {
      "codemirror_mode": {
        "name": "ipython",
        "version": 3
      },
      "file_extension": ".py",
      "mimetype": "text/x-python",
      "name": "python",
      "nbconvert_exporter": "python",
      "pygments_lexer": "ipython3",
      "version": "3.9.21"
    }
  },
  "nbformat": 4,
  "nbformat_minor": 0
}
